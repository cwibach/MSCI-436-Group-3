{
 "cells": [
  {
   "cell_type": "code",
   "execution_count": 1,
   "metadata": {},
   "outputs": [],
   "source": [
    "import numpy as np\n",
    "import pandas as pd\n",
    "import os"
   ]
  },
  {
   "cell_type": "code",
   "execution_count": 14,
   "metadata": {},
   "outputs": [
    {
     "name": "stdout",
     "output_type": "stream",
     "text": [
      "10066902022101022963511840969996999699996999960070070000106140100009635354589999626666666666699699626666666666666666996996699996996999969999969999969999969999969999969999969999969999969999969999969999969999969999969999969999996999996001500999999002000000080000000000100001000000000000000000300000200000518069629601696969999629699996312222222222222222221222222222222220001937.30280000968.6514\n",
      "\n",
      "1006690\n"
     ]
    }
   ],
   "source": [
    "filepath = \"../data/TRIPS_NTS2022_PUMF.txt\"\n",
    "\n",
    "full_strings_file = open(filepath, 'r')\n",
    "full_strings = full_strings_file.readlines()\n",
    "\n",
    "print(full_strings[0])\n",
    "print(full_strings[0][0:7])\n",
    "\n",
    "test_string = full_strings[0]"
   ]
  },
  {
   "cell_type": "code",
   "execution_count": 15,
   "metadata": {},
   "outputs": [],
   "source": [
    "all_columns = [\"PUMFID\",\"REFYEAR\",\"QUARTER\",\"TRIPID\",\"TRIPTYPE\",\"ROS_Q02A\",\"ROS_Q02B\",\"ORIGPROV\",\n",
    "\"MDCNTRY\",\"MDPROV\",\"MDTOUR\",\"MDCMA2\",\"DISTANCE\",\"DISTLONG\",\"DURATION\",\"DUR_MAIN\",\"DUR_LEG\",\"MREASON\",\"PAGE_GRP\",\"GEND_BIN\",\"INCOMGR2\",\n",
    "\"GNCQ06A\",\"GNCQ06B\",\"GN_Q06C\",\"GND_D01\",\"GNI_Q02\",\"GNI_D03\",\"GNI_C05\",\"GNI_D01G\",\"PKD_Q01\",\"PKD_Q03A\",\"PKD_Q03B\",\"PKD_Q03C\",\"PKD_Q03D\",\"PKD_Q03E\",\"PKD_Q03F\",\"PKD_Q03G\",\n",
    "\"PKD_Q03H\",\"PKD_Q03I\",\"PKD_Q03J\",\"PKD_Q04\",\"PKD_Q05\",\"PKI_Q01\",\"PKI_Q03A\",\"PKI_Q03B\",\"PKI_Q03C\",\"PKI_Q03D\",\"PKI_Q03E\",\"PKI_Q03F\",\"PKI_Q03G\",\"PKI_Q03H\",\"PKI_Q03I\",\n",
    "\"PKI_Q03J\",\"PKI_Q03K\",\"PKI_Q03L\",\"PKI_Q03M\",\"PKI_Q03N\",\"PKI_Q03O\",\"PKI_Q03P\",\"PKI_Q04\",\"PKI_Q05\",\"PKI_Q06\",\"PKI_C07\",\"PKI_Q08\",\"PKI_Q09\",\"SPD_Q01\",\"SPI_Q03\",\n",
    "\"SPI_Q03B\",\"SPD_D02\",\"SPD_D03\",\"SPD_D04\",\"SPD_D05\",\"SPD_D06\",\"SPD_D07\",\"SPD_D08\",\"SPD_D09\",\"SPD_D10\",\"SPD_D11\",\"SPD_D12\",\"SPD_DTOT\",\"SPI_D04\",\"SPI_D05\",\"SPI_D06\",\n",
    "\"SPI_D07\",\"SPI_D08\",\"SPI_D09\",\"SPI_D10\",\"SPI_D11\",\"SPI_D12\",\"SPI_D13\",\"SPI_D14\",\"SPI_D15\",\"SPI_DTOT\",\"VSD1_Q01\",\"VSD1_Q02\",\"VSI_Q01\",\"VSI_Q02\",\"VSI_Q04\",\"LGD_Q01\",\n",
    "\"LGD_Q02\",\"LGD_Q04\",\"LGD_Q06\",\"LGI_Q01\",\"LGI_Q02\",\"LGI_Q04\",\"TRIP_LEG\",\"ACT_01\",\"ACT_02\",\"ACT_03\",\"ACT_04\",\"ACT_05\",\"ACT_06\",\"ACT_07\",\"ACT_08\",\"ACT_09\",\"ACT_10\",\n",
    "\"ACT_11\",\"ACT_12\",\"ACT_13\",\"ACT_14\",\"ACT_15\",\"ACT_16\",\"ACT_17\",\"ACT_18\",\"ACT_19\",\"ACT_20\",\"ACT_21\",\"ACT_22\",\"ACT_23\",\"ACT_24\",\"ACT_25\",\"ACT_26\",\"ACT_27\",\"ACT_28\",\n",
    "\"ACT_29\",\"ACT_30\",\"ACT_31\",\"ACT_32\",\"ACT_33\",\"ACT_34\",\"WPT\",\"WT\"]"
   ]
  },
  {
   "cell_type": "code",
   "execution_count": 18,
   "metadata": {},
   "outputs": [],
   "source": [
    "char_starts = [1, 8, 12, 13, 15, 17, 18, 20, 22, 27, 29, 33, 37, 42, 47, 50, 53, 56, 58, \n",
    "60, 61, 62, 64, 66, 68, 70, 72, 77, 82, 83, 84, 85, 86, 87, 88, 89, 90, 91, 92, 93, 94, 97, 100, 101, 102, 103, 104, 105, 106, 107,\n",
    "108, 109,110, 111, 112, 113, 114, 115, 116, 117, 120, 123, 124, 129, 132, 137, 143, 149, 155, 161, 167, 173, 179, 185, 191, 197, 203, 209, 215, 221, 228,\n",
    " 234, 240, 246, 252, 258, 264, 270, 276, 282, 288, 294, 300, 307, 308, 310, 311, 313, 315, 316, 318, 320, 325, 326, 328, 333, 334, 335, 336, 337, 338, 339,\n",
    " 340, 341, 342, 343, 344, 345, 346, 347, 348, 349, 350, 351, 352, 353, 354, 355, 356, 357, 358, 359, 360, 361, 362, 363, 364, 365, 366, 367, 368, 380, 391]"
   ]
  },
  {
   "cell_type": "code",
   "execution_count": 22,
   "metadata": {},
   "outputs": [
    {
     "name": "stdout",
     "output_type": "stream",
     "text": [
      "142\n",
      "143\n"
     ]
    }
   ],
   "source": [
    "print(len(all_columns))\n",
    "print(len(char_starts))"
   ]
  },
  {
   "cell_type": "code",
   "execution_count": 30,
   "metadata": {},
   "outputs": [],
   "source": [
    "data_entries = []\n",
    "\n",
    "for entry_string in full_strings:\n",
    "    entry_results = []\n",
    "\n",
    "    for i in range(0, len(all_columns) - 2):\n",
    "        start_index = char_starts[i] - 1\n",
    "        end_index = char_starts[i+1] - 1\n",
    "        substring = entry_string[start_index: end_index]\n",
    "\n",
    "        entry_results.append(int(substring))\n",
    "\n",
    "    entry_results.append(float(entry_string[367:379]))\n",
    "    entry_results.append(float(entry_string[379:391]))\n",
    "\n",
    "    data_entries.append(entry_results)\n",
    "\n",
    "full_data = pd.DataFrame(data=data_entries, columns=all_columns)"
   ]
  },
  {
   "cell_type": "code",
   "execution_count": null,
   "metadata": {},
   "outputs": [],
   "source": [
    "quarter_map = {1: '1st Quarter', 2: '2nd Quarter', 3: '3rd Quarter', 4: '4th Quarter'}\n",
    "\n",
    "province_map = {10: 'Newfoundland and Labrador', 11 : 'Prince Edward Island', 12: 'Nova Scotia', 13:'New Brunswick', \n",
    "                       24:'Quebec', 35:'Ontario', 46:'Manitoba', 47:'Saskatchewan', 48:'Alberta', 59:'British Columbia',\n",
    "                       60:'Yukon', 61:'Northwest Territories', 62:'Nunavut', 96:'Out of Country'}\n",
    "\n",
    "tourism_region_map = {1: 'Avalon', 5: 'Eastern Newfoundland', 10: 'Central Newfoundland', 15: 'Western Newfoundland', 20: 'Labrador',\n",
    "                       99:'Other Newfoundland & Labrador', 101:'Prince Edward Island', 202: 'Yarmouth & Acadian Shores', 206:'South Shore',\n",
    "                       206:'Halifax', 215:'Eastern Shore', 220:'Cape Breton Island', 225: 'Northumberland Shore', 232: 'Fundy Shore & Annapolis Valley',\n",
    "                       299: 'Other Nova Scotia', 300: 'Appalachian Range', 302:'Miramichi River',304:'Acadian Coastal Drive',308:'Fundy',\n",
    "                       318:'River Valley', 399:'Other New Brunswick',401:'Îles-de-la-Madeleine', 405:'Gaspésie', 410:'Bas-Saint-Laurent',\n",
    "                       415: 'Québec', 420:'Charlevoix', 425:'Chaudières-Appalaches', 430:'Centre-du-Québec', 435:'Mauricie',\n",
    "                       440: \"Cantons-de-l'Est\", 445:\"Montérégie\", 450:\"Lanaudière\", 455: \"Laurentides\", 460:\"Montréal\", 465:\"Outaouais\",\n",
    "                       470:\"Abiti-Témiscamingue\", 475:\"Saguenay-Lac-Saint-Jean\", 480:\"Manicouagan\", 485:\"Duplessis\", 491:\"James Bay\", 492:\"Nunavik\",\n",
    "                       493:\"Eeyou Istchee\", 495: \"Laval\", 499: \"Other Quebec\", 502: \"Southwest Ontario\", 506: \"Niagara Falls & Wine Country\",\n",
    "                       511: \"Hamilton/Halton/Brant\", 516: 'Huron/Perth/Waterloo/Wellington', 521: 'Greater Toronto Area',\n",
    "                       526: 'York/Durham/Hills of Headwaters', 531: 'Bruce Peninsula/South Georgian Bay/Lake Simcoe',\n",
    "                       536: 'Kawartha & Northumberland', 541: 'South Eastern Ontario', 546: 'Ottawa & Countryside',\n",
    "                       551: 'Haliburtan Highlands to the Ottawa Valley', 556: 'Muskoka/Parry Sound/Algonquin Park', 560: 'North East Ontario',\n",
    "                       565: 'North Central Ontario', 570:'North West Ontario', 599: 'Other Ontario', 601:'Winnipeg',605:'South East Manitoba',\n",
    "                       610:'South Central Manitoba',615:'South West Manitoba',620:'North Central Manitoba',625:'Parklands',630:'Interlake',\n",
    "                       635:'Northern Manitoba', 699:'Other Manitoba', 701:'Southwestern Saskatchewan', 705:'Southeastern Saskatchewan',\n",
    "                       710:'Regina', 715:'West Central Saskatchewan', 720:'Saskatoon', 725:'East Central Saskatchewan', 730: 'Northern Saskatchewan',\n",
    "                       799:'Other Saskatchewan', 801:'Alberta North', 805:'Alberta Central', 810: 'Edmonton & Area', 815:'Canadian Rockies',\n",
    "                       820: 'Calgary & Area', 825:'Albera South', 899:'Other Alberta',901:'Vancouver Islands', 905:'Vancouver & Coast & Mountains',\n",
    "                       910: 'Thompson-Okanagan', 915:'Kootenay Rockies', 920: 'Cariboo Chilcotin Coast', 925: 'Northern BC', 981:'Whitehorse',\n",
    "                       982: 'Dawson', 983: 'Rural Yukon', 991: 'Northwest Territories', 992: 'Nunavut', 999: 'Other BC', 9996: 'Out of Country'}\n",
    "\n",
    "metro_area_map = {0: 'Other', 1: \"St. John's\", 205:'Halifax', 305:'Moncton', 310: 'Saint John', 408:'Saguenay', 421: 'Quebec', 433: 'Sherbrooke',\n",
    "                    442:\"Trois-Rivières\", 462:\"Montréal\", 505: \"Ottawa-Gatineau \", 521: \"Kingston\", 529: \"Peterborough\", 532:\"Oshawa\",\n",
    "                    535: \"Toronto\", 537:\"Hamilton\", 539: \"St-Catherines/Niagara\", 541: \"Kitchener\", 543: \"Brantford\", 550:\"Guelph\",\n",
    "                    555:\"London\", 559:\"Windsor\", 568:\"Barrie\",580:\"Greater Sudbury\",595:\"Thunder Bay\",602:\"Winnipeg\",705:\"Regina\",725:\"Saskatoon\",\n",
    "                    825:\"Calgary\",835:\"Edmonton\",915:\"Kelowna\",932:\"Abbotsford\",933:\"Vancouver\",935:\"Victoria\",9996:\"Out of Country\", 9999:\"Unknown\"}\n",
    "\n",
    "\n",
    "main_reason_map = {1: 'Holiday/Leisure/Recreation', 2: 'Friends/Relatives', 3: 'Non-Business conference/convention/trade show',\n",
    "                    4: 'Shopping', 5: 'School/Study', 6: 'Medical', 7: 'Religion', 8: 'Other Personal',\n",
    "                    9: 'Business Meeting/Conference/Convention/Trade Show', 10: 'Other Business'}\n",
    "\n",
    "age_range_map = {1: '18-24', 2: '25-34', 3: '35-44', 4:'45-54', 5:'55-64', 6:'65+'} \n",
    "\n",
    "transportation_method_map = {1: 'Commercial Airline', 2: 'Car', 3: 'Bus',4:'Train', 5:'Commercial Boat or Cruise', 6:'Ferry',7:'Other',96:'Unknown',99:'Unknown'}\n",
    "\n",
    "activity_map = {1: True, 2: False, 9: False}"
   ]
  },
  {
   "cell_type": "code",
   "execution_count": null,
   "metadata": {},
   "outputs": [],
   "source": [
    "full_data['Quarter'] = full_data['QUARTER'].map(quarter_map)\n",
    "full_data['Origin Province'] = full_data['ORIGPROV'].map(province_map)\n",
    "full_data['Destination Province'] = full_data['MDPROV'].map(province_map)\n",
    "full_data['Destination Region'] = full_data['MDTOUR'].map(tourism_region_map)\n",
    "full_data['Destination Metro Area'] = full_data['MDCMA2'].map(metro_area_map)\n",
    "full_data['Age Range'] = full_data['PAGE_GRP'].map(age_range_map)\n",
    "full_data['Main Reason'] = full_data['MREASON'].map(main_reason_map)\n",
    "full_data['Main Transportation Method'] = full_data['GND_D01'].map(transportation_method_map)\n",
    "\n",
    "full_data['Visit Friends & Family'] = full_data['ACT_01'].map(activity_map)\n",
    "full_data['Shopping'] = full_data['ACT_02'].map(activity_map)\n",
    "full_data['Sightseeing'] = full_data['ACT_03'].map(activity_map)\n",
    "full_data['Museum/Art Gallery'] = full_data['ACT_04'].map(activity_map)\n",
    "full_data['Historic site'] = full_data['ACT_05'].map(activity_map)\n",
    "full_data['Zoo/Aquarium'] = full_data['ACT_06'].map(activity_map)\n",
    "full_data['Sprts Event as Spectator'] = full_data['ACT_07'].map(activity_map)\n",
    "full_data['Festival or Fair'] = full_data['ACT_08'].map(activity_map)\n",
    "full_data['Performance such as Play or Concert'] = full_data['ACT_09'].map(activity_map)\n",
    "full_data['Casino'] = full_data['ACT_10'].map(activity_map)\n",
    "full_data['Theme/Amusement Park'] = full_data['ACT_11'].map(activity_map)\n",
    "full_data['Aboriginal Event'] = full_data['ACT_12'].map(activity_map)\n",
    "full_data['Movies'] = full_data['ACT_13'].map(activity_map)\n",
    "full_data['Restaurant/Bar/Club'] = full_data['ACT_14'].map(activity_map)\n",
    "full_data['Wildife Viewing/Bird Watching'] = full_data['ACT_15'].map(activity_map)\n",
    "full_data['National/Provincial/Nature Park'] = full_data['ACT_16'].map(activity_map)\n",
    "full_data['Medical/Health Treatment'] = full_data['ACT_17'].map(activity_map)\n",
    "full_data['Business Meeting/Conference/Seminar'] = full_data['ACT_18'].map(activity_map)\n",
    "full_data['All-Terrain Vehicle'] = full_data['ACT_19'].map(activity_map)\n",
    "full_data['Boating'] = full_data['ACT_20'].map(activity_map)\n",
    "full_data['Canoeing/Kayaking'] = full_data['ACT_21'].map(activity_map)\n",
    "full_data['Camping'] = full_data['ACT_22'].map(activity_map)\n",
    "full_data['Hiking/Backpacking'] = full_data['ACT_23'].map(activity_map)\n",
    "full_data['Fishing'] = full_data['ACT_24'].map(activity_map)\n",
    "full_data['Beach'] = full_data['ACT_25'].map(activity_map)\n",
    "full_data['Hunting'] = full_data['ACT_26'].map(activity_map)\n",
    "full_data['Golfing'] = full_data['ACT_27'].map(activity_map)\n",
    "full_data['Cycling'] = full_data['ACT_28'].map(activity_map)\n",
    "full_data['Snowmobiling'] = full_data['ACT_29'].map(activity_map)\n",
    "full_data['Downhill Skiing/Snowboarding'] = full_data['ACT_30'].map(activity_map)\n",
    "full_data['Cross-country Skiing/Snowshoeing'] = full_data['ACT_31'].map(activity_map)\n",
    "full_data['Play Sports'] = full_data['ACT_32'].map(activity_map)\n",
    "full_data['Other Activity'] = full_data['ACT_33'].map(activity_map)\n",
    "full_data['No Activities'] = full_data['ACT_34'].map(activity_map)\n",
    "\n",
    "full_data.drop(['QUARTER', 'ORIGPROV', 'MDPROV', 'MDTOUR', 'MDCMA2', 'PAGE_GRP', 'MREASON', 'GND_D01',\n",
    "                'ACT_01', 'ACT_02', 'ACT_03', 'ACT_04', 'ACT_05', 'ACT_06', 'ACT_07', 'ACT_08', 'ACT_09',\n",
    "                  'ACT_10', 'ACT_11', 'ACT_12', 'ACT_13', 'ACT_14', 'ACT_15', 'ACT_16', 'ACT_17',\n",
    "                    'ACT_18', 'ACT_19', 'ACT_20', 'ACT_21', 'ACT_22', 'ACT_23', 'ACT_24', 'ACT_25', 'ACT_26',\n",
    "                      'ACT_27', 'ACT_28', 'ACT_29', 'ACT_30', 'ACT_31', 'ACT_32', 'ACT_33', 'ACT_34'], axis=1, inplace=True)"
   ]
  },
  {
   "cell_type": "code",
   "execution_count": null,
   "metadata": {},
   "outputs": [],
   "source": [
    "final_write_path = \"../data/Trips_data.csv\"\n",
    "\n",
    "full_data.to_csv(final_write_path, index=False)"
   ]
  }
 ],
 "metadata": {
  "kernelspec": {
   "display_name": "base",
   "language": "python",
   "name": "python3"
  },
  "language_info": {
   "name": "python",
   "version": "3.11.5"
  }
 },
 "nbformat": 4,
 "nbformat_minor": 2
}
