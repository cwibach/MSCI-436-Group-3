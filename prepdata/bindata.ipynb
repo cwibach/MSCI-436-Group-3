{
 "cells": [
  {
   "cell_type": "code",
   "execution_count": 2,
   "metadata": {},
   "outputs": [],
   "source": [
    "import numpy as np\n",
    "import pandas as pd\n",
    "import seaborn as sns\n",
    "import matplotlib.pyplot as plt"
   ]
  },
  {
   "cell_type": "code",
   "execution_count": 3,
   "metadata": {},
   "outputs": [
    {
     "data": {
      "text/html": [
       "<div>\n",
       "<style scoped>\n",
       "    .dataframe tbody tr th:only-of-type {\n",
       "        vertical-align: middle;\n",
       "    }\n",
       "\n",
       "    .dataframe tbody tr th {\n",
       "        vertical-align: top;\n",
       "    }\n",
       "\n",
       "    .dataframe thead th {\n",
       "        text-align: right;\n",
       "    }\n",
       "</style>\n",
       "<table border=\"1\" class=\"dataframe\">\n",
       "  <thead>\n",
       "    <tr style=\"text-align: right;\">\n",
       "      <th></th>\n",
       "      <th>PUMFID</th>\n",
       "      <th>REFYEAR</th>\n",
       "      <th>TRIPID</th>\n",
       "      <th>TRIPTYPE</th>\n",
       "      <th>ROS_Q02A</th>\n",
       "      <th>ROS_Q02B</th>\n",
       "      <th>DISTANCE</th>\n",
       "      <th>DISTLONG</th>\n",
       "      <th>DURATION</th>\n",
       "      <th>DUR_MAIN</th>\n",
       "      <th>...</th>\n",
       "      <th>Beach</th>\n",
       "      <th>Hunting</th>\n",
       "      <th>Golfing</th>\n",
       "      <th>Cycling</th>\n",
       "      <th>Snowmobiling</th>\n",
       "      <th>Downhill Skiing/Snowboarding</th>\n",
       "      <th>Cross-country Skiing/Snowshoeing</th>\n",
       "      <th>Play Sports</th>\n",
       "      <th>Other Activity</th>\n",
       "      <th>No Activities</th>\n",
       "    </tr>\n",
       "  </thead>\n",
       "  <tbody>\n",
       "    <tr>\n",
       "      <th>0</th>\n",
       "      <td>1006690</td>\n",
       "      <td>2022</td>\n",
       "      <td>2</td>\n",
       "      <td>5</td>\n",
       "      <td>2</td>\n",
       "      <td>96</td>\n",
       "      <td>46.0</td>\n",
       "      <td>46.0</td>\n",
       "      <td>0</td>\n",
       "      <td>0</td>\n",
       "      <td>...</td>\n",
       "      <td>False</td>\n",
       "      <td>False</td>\n",
       "      <td>False</td>\n",
       "      <td>False</td>\n",
       "      <td>False</td>\n",
       "      <td>False</td>\n",
       "      <td>False</td>\n",
       "      <td>False</td>\n",
       "      <td>False</td>\n",
       "      <td>False</td>\n",
       "    </tr>\n",
       "    <tr>\n",
       "      <th>1</th>\n",
       "      <td>1006690</td>\n",
       "      <td>2022</td>\n",
       "      <td>3</td>\n",
       "      <td>5</td>\n",
       "      <td>2</td>\n",
       "      <td>96</td>\n",
       "      <td>63.0</td>\n",
       "      <td>63.0</td>\n",
       "      <td>0</td>\n",
       "      <td>0</td>\n",
       "      <td>...</td>\n",
       "      <td>False</td>\n",
       "      <td>False</td>\n",
       "      <td>False</td>\n",
       "      <td>False</td>\n",
       "      <td>False</td>\n",
       "      <td>False</td>\n",
       "      <td>False</td>\n",
       "      <td>False</td>\n",
       "      <td>False</td>\n",
       "      <td>False</td>\n",
       "    </tr>\n",
       "    <tr>\n",
       "      <th>2</th>\n",
       "      <td>3008513</td>\n",
       "      <td>2022</td>\n",
       "      <td>1</td>\n",
       "      <td>4</td>\n",
       "      <td>2</td>\n",
       "      <td>96</td>\n",
       "      <td>847.0</td>\n",
       "      <td>847.0</td>\n",
       "      <td>76</td>\n",
       "      <td>76</td>\n",
       "      <td>...</td>\n",
       "      <td>False</td>\n",
       "      <td>False</td>\n",
       "      <td>False</td>\n",
       "      <td>False</td>\n",
       "      <td>False</td>\n",
       "      <td>False</td>\n",
       "      <td>False</td>\n",
       "      <td>False</td>\n",
       "      <td>False</td>\n",
       "      <td>False</td>\n",
       "    </tr>\n",
       "    <tr>\n",
       "      <th>3</th>\n",
       "      <td>1010819</td>\n",
       "      <td>2022</td>\n",
       "      <td>1</td>\n",
       "      <td>6</td>\n",
       "      <td>2</td>\n",
       "      <td>96</td>\n",
       "      <td>83.0</td>\n",
       "      <td>83.0</td>\n",
       "      <td>15</td>\n",
       "      <td>15</td>\n",
       "      <td>...</td>\n",
       "      <td>False</td>\n",
       "      <td>False</td>\n",
       "      <td>False</td>\n",
       "      <td>False</td>\n",
       "      <td>False</td>\n",
       "      <td>False</td>\n",
       "      <td>False</td>\n",
       "      <td>False</td>\n",
       "      <td>False</td>\n",
       "      <td>False</td>\n",
       "    </tr>\n",
       "    <tr>\n",
       "      <th>4</th>\n",
       "      <td>1006697</td>\n",
       "      <td>2022</td>\n",
       "      <td>2</td>\n",
       "      <td>5</td>\n",
       "      <td>2</td>\n",
       "      <td>96</td>\n",
       "      <td>NaN</td>\n",
       "      <td>NaN</td>\n",
       "      <td>0</td>\n",
       "      <td>0</td>\n",
       "      <td>...</td>\n",
       "      <td>False</td>\n",
       "      <td>False</td>\n",
       "      <td>False</td>\n",
       "      <td>False</td>\n",
       "      <td>False</td>\n",
       "      <td>False</td>\n",
       "      <td>False</td>\n",
       "      <td>False</td>\n",
       "      <td>False</td>\n",
       "      <td>False</td>\n",
       "    </tr>\n",
       "  </tbody>\n",
       "</table>\n",
       "<p>5 rows × 82 columns</p>\n",
       "</div>"
      ],
      "text/plain": [
       "    PUMFID  REFYEAR  TRIPID  TRIPTYPE  ROS_Q02A  ROS_Q02B  DISTANCE  DISTLONG  \\\n",
       "0  1006690     2022       2         5         2        96      46.0      46.0   \n",
       "1  1006690     2022       3         5         2        96      63.0      63.0   \n",
       "2  3008513     2022       1         4         2        96     847.0     847.0   \n",
       "3  1010819     2022       1         6         2        96      83.0      83.0   \n",
       "4  1006697     2022       2         5         2        96       NaN       NaN   \n",
       "\n",
       "   DURATION  DUR_MAIN  ...  Beach  Hunting  Golfing  Cycling  Snowmobiling  \\\n",
       "0         0         0  ...  False    False    False    False         False   \n",
       "1         0         0  ...  False    False    False    False         False   \n",
       "2        76        76  ...  False    False    False    False         False   \n",
       "3        15        15  ...  False    False    False    False         False   \n",
       "4         0         0  ...  False    False    False    False         False   \n",
       "\n",
       "   Downhill Skiing/Snowboarding  Cross-country Skiing/Snowshoeing Play Sports  \\\n",
       "0                         False                             False       False   \n",
       "1                         False                             False       False   \n",
       "2                         False                             False       False   \n",
       "3                         False                             False       False   \n",
       "4                         False                             False       False   \n",
       "\n",
       "   Other Activity  No Activities  \n",
       "0           False          False  \n",
       "1           False          False  \n",
       "2           False          False  \n",
       "3           False          False  \n",
       "4           False          False  \n",
       "\n",
       "[5 rows x 82 columns]"
      ]
     },
     "execution_count": 3,
     "metadata": {},
     "output_type": "execute_result"
    }
   ],
   "source": [
    "filepath = \"../data/Trips_data (cleaned).csv\"\n",
    "\n",
    "df = pd.read_csv(filepath)\n",
    "\n",
    "df.head()"
   ]
  },
  {
   "cell_type": "code",
   "execution_count": 4,
   "metadata": {},
   "outputs": [],
   "source": [
    "df2 = df[[\"Total Spending for transport\", \"Total Spending for food/bevs\", \"Total spending on shopping\",\n",
    "           \"Total spending for activities/entertainment\", \"SPD_DTOT\", \"SPD_D06\"]]"
   ]
  },
  {
   "cell_type": "code",
   "execution_count": 5,
   "metadata": {},
   "outputs": [
    {
     "data": {
      "text/plain": [
       "Index(['PUMFID', 'REFYEAR', 'TRIPID', 'TRIPTYPE', 'ROS_Q02A', 'ROS_Q02B',\n",
       "       'DISTANCE', 'DISTLONG', 'DURATION', 'DUR_MAIN', 'DUR_LEG', 'GEND_BIN',\n",
       "       'INCOMGR2', 'GNCQ06A', 'GNCQ06B', 'GN_Q06C', 'PKD_Q01',\n",
       "       'Gave actual amounts?', 'SPD_D02', 'SPD_D03', 'SPD_D04', 'SPD_D05',\n",
       "       'Total Spending for transport', 'SPD_D06', 'SPD_D07', 'SPD_D08',\n",
       "       'Total Spending for food/bevs', 'SPD_D09', 'SPD_D10',\n",
       "       'Total spending for activities/entertainment', 'SPD_D11', 'SPD_D12',\n",
       "       'Total spending on shopping', 'SPD_DTOT', 'VSD1_Q01', 'VSD1_Q02',\n",
       "       'LGD_Q01', 'TRIP_LEG', 'WPT', 'WT', 'Quarter', 'Origin Province',\n",
       "       'Destination Province', 'Destination Region', 'Destination Metro Area',\n",
       "       'Age Range', 'Main Reason', 'Main Transportation Method',\n",
       "       'Visit Friends & Family', 'Shopping', 'Sightseeing',\n",
       "       'Museum/Art Gallery', 'Historic site', 'Zoo/Aquarium',\n",
       "       'Sprts Event as Spectator', 'Festival or Fair',\n",
       "       'Performance such as Play or Concert', 'Casino', 'Theme/Amusement Park',\n",
       "       'Aboriginal Event', 'Movies', 'Restaurant/Bar/Club',\n",
       "       'Wildife Viewing/Bird Watching', 'National/Provincial/Nature Park',\n",
       "       'Medical/Health Treatment', 'Business Meeting/Conference/Seminar',\n",
       "       'All-Terrain Vehicle', 'Boating', 'Canoeing/Kayaking', 'Camping',\n",
       "       'Hiking/Backpacking', 'Fishing', 'Beach', 'Hunting', 'Golfing',\n",
       "       'Cycling', 'Snowmobiling', 'Downhill Skiing/Snowboarding',\n",
       "       'Cross-country Skiing/Snowshoeing', 'Play Sports', 'Other Activity',\n",
       "       'No Activities'],\n",
       "      dtype='object')"
      ]
     },
     "execution_count": 5,
     "metadata": {},
     "output_type": "execute_result"
    }
   ],
   "source": [
    "df.columns"
   ]
  },
  {
   "cell_type": "code",
   "execution_count": 30,
   "metadata": {},
   "outputs": [
    {
     "data": {
      "text/html": [
       "<div>\n",
       "<style scoped>\n",
       "    .dataframe tbody tr th:only-of-type {\n",
       "        vertical-align: middle;\n",
       "    }\n",
       "\n",
       "    .dataframe tbody tr th {\n",
       "        vertical-align: top;\n",
       "    }\n",
       "\n",
       "    .dataframe thead th {\n",
       "        text-align: right;\n",
       "    }\n",
       "</style>\n",
       "<table border=\"1\" class=\"dataframe\">\n",
       "  <thead>\n",
       "    <tr style=\"text-align: right;\">\n",
       "      <th></th>\n",
       "      <th>Total Spending for transport</th>\n",
       "      <th>Total Spending for food/bevs</th>\n",
       "      <th>Total spending on shopping</th>\n",
       "      <th>Total spending for activities/entertainment</th>\n",
       "      <th>SPD_DTOT</th>\n",
       "      <th>SPD_D06</th>\n",
       "    </tr>\n",
       "  </thead>\n",
       "  <tbody>\n",
       "    <tr>\n",
       "      <th>count</th>\n",
       "      <td>47141.000000</td>\n",
       "      <td>47141.000000</td>\n",
       "      <td>47141.000000</td>\n",
       "      <td>47141.000000</td>\n",
       "      <td>47141.000000</td>\n",
       "      <td>14507.000000</td>\n",
       "    </tr>\n",
       "    <tr>\n",
       "      <th>mean</th>\n",
       "      <td>167.897054</td>\n",
       "      <td>121.874441</td>\n",
       "      <td>46.203708</td>\n",
       "      <td>50.065824</td>\n",
       "      <td>505.492225</td>\n",
       "      <td>388.160819</td>\n",
       "    </tr>\n",
       "    <tr>\n",
       "      <th>std</th>\n",
       "      <td>610.115720</td>\n",
       "      <td>222.495559</td>\n",
       "      <td>262.073779</td>\n",
       "      <td>174.584086</td>\n",
       "      <td>1091.163565</td>\n",
       "      <td>690.088130</td>\n",
       "    </tr>\n",
       "    <tr>\n",
       "      <th>min</th>\n",
       "      <td>0.000000</td>\n",
       "      <td>0.000000</td>\n",
       "      <td>0.000000</td>\n",
       "      <td>0.000000</td>\n",
       "      <td>0.000000</td>\n",
       "      <td>0.000000</td>\n",
       "    </tr>\n",
       "    <tr>\n",
       "      <th>25%</th>\n",
       "      <td>40.000000</td>\n",
       "      <td>0.000000</td>\n",
       "      <td>0.000000</td>\n",
       "      <td>0.000000</td>\n",
       "      <td>75.000000</td>\n",
       "      <td>0.000000</td>\n",
       "    </tr>\n",
       "    <tr>\n",
       "      <th>50%</th>\n",
       "      <td>70.000000</td>\n",
       "      <td>50.000000</td>\n",
       "      <td>0.000000</td>\n",
       "      <td>0.000000</td>\n",
       "      <td>185.000000</td>\n",
       "      <td>180.000000</td>\n",
       "    </tr>\n",
       "    <tr>\n",
       "      <th>75%</th>\n",
       "      <td>143.000000</td>\n",
       "      <td>150.000000</td>\n",
       "      <td>0.000000</td>\n",
       "      <td>20.000000</td>\n",
       "      <td>500.000000</td>\n",
       "      <td>500.000000</td>\n",
       "    </tr>\n",
       "    <tr>\n",
       "      <th>max</th>\n",
       "      <td>78700.000000</td>\n",
       "      <td>6000.000000</td>\n",
       "      <td>25050.000000</td>\n",
       "      <td>10777.000000</td>\n",
       "      <td>79003.000000</td>\n",
       "      <td>15200.000000</td>\n",
       "    </tr>\n",
       "  </tbody>\n",
       "</table>\n",
       "</div>"
      ],
      "text/plain": [
       "       Total Spending for transport  Total Spending for food/bevs  \\\n",
       "count                  47141.000000                  47141.000000   \n",
       "mean                     167.897054                    121.874441   \n",
       "std                      610.115720                    222.495559   \n",
       "min                        0.000000                      0.000000   \n",
       "25%                       40.000000                      0.000000   \n",
       "50%                       70.000000                     50.000000   \n",
       "75%                      143.000000                    150.000000   \n",
       "max                    78700.000000                   6000.000000   \n",
       "\n",
       "       Total spending on shopping  \\\n",
       "count                47141.000000   \n",
       "mean                    46.203708   \n",
       "std                    262.073779   \n",
       "min                      0.000000   \n",
       "25%                      0.000000   \n",
       "50%                      0.000000   \n",
       "75%                      0.000000   \n",
       "max                  25050.000000   \n",
       "\n",
       "       Total spending for activities/entertainment      SPD_DTOT       SPD_D06  \n",
       "count                                 47141.000000  47141.000000  14507.000000  \n",
       "mean                                     50.065824    505.492225    388.160819  \n",
       "std                                     174.584086   1091.163565    690.088130  \n",
       "min                                       0.000000      0.000000      0.000000  \n",
       "25%                                       0.000000     75.000000      0.000000  \n",
       "50%                                       0.000000    185.000000    180.000000  \n",
       "75%                                      20.000000    500.000000    500.000000  \n",
       "max                                   10777.000000  79003.000000  15200.000000  "
      ]
     },
     "execution_count": 30,
     "metadata": {},
     "output_type": "execute_result"
    }
   ],
   "source": [
    "df2.describe()"
   ]
  },
  {
   "cell_type": "code",
   "execution_count": 6,
   "metadata": {},
   "outputs": [
    {
     "data": {
      "text/plain": [
       "<Axes: xlabel='SPD_DTOT', ylabel='Count'>"
      ]
     },
     "execution_count": 6,
     "metadata": {},
     "output_type": "execute_result"
    },
    {
     "data": {
      "image/png": "[encoded data removed]",
      "text/plain": [
       "<Figure size 640x480 with 1 Axes>"
      ]
     },
     "metadata": {},
     "output_type": "display_data"
    }
   ],
   "source": [
    "sns.histplot(df2['SPD_DTOT'], bins=50, binrange=[0, 1000])"
   ]
  },
  {
   "cell_type": "code",
   "execution_count": 7,
   "metadata": {},
   "outputs": [
    {
     "data": {
      "text/plain": [
       "<Axes: xlabel='SPD_D06', ylabel='Count'>"
      ]
     },
     "execution_count": 7,
     "metadata": {},
     "output_type": "execute_result"
    },
    {
     "data": {
      "image/png": "[encoded data removed]",
      "text/plain": [
       "<Figure size 640x480 with 1 Axes>"
      ]
     },
     "metadata": {},
     "output_type": "display_data"
    }
   ],
   "source": [
    "sns.histplot(df2['SPD_D06'], bins=50, binrange=[1, 10000])"
   ]
  },
  {
   "cell_type": "code",
   "execution_count": 8,
   "metadata": {},
   "outputs": [],
   "source": [
    "qp_20 = []\n",
    "qp_50 = []\n",
    "qp_100 = []\n",
    "\n",
    "for i in range(0, 101):\n",
    "    qp_100.append(0.01*i)\n",
    "    if (i < 51):\n",
    "        qp_50.append(0.02*i)\n",
    "        if (i < 21):\n",
    "            qp_20.append(0.05*i)"
   ]
  },
  {
   "cell_type": "code",
   "execution_count": 9,
   "metadata": {},
   "outputs": [
    {
     "data": {
      "text/plain": [
       "Index(['Total Spending for transport', 'Total Spending for food/bevs',\n",
       "       'Total spending on shopping',\n",
       "       'Total spending for activities/entertainment', 'SPD_DTOT', 'SPD_D06'],\n",
       "      dtype='object')"
      ]
     },
     "execution_count": 9,
     "metadata": {},
     "output_type": "execute_result"
    }
   ],
   "source": [
    "df2.columns"
   ]
  },
  {
   "cell_type": "code",
   "execution_count": 10,
   "metadata": {},
   "outputs": [],
   "source": [
    "transport_q100 = df2['Total Spending for transport'].quantile(q=qp_100,  interpolation='lower').values\n",
    "food_q100 = df2['Total Spending for food/bevs'].quantile(q=qp_100,  interpolation='lower').values\n",
    "shopping_q100 = df2['Total spending on shopping'].quantile(q=qp_100,  interpolation='lower').values\n",
    "activities_q100 = df2['Total spending for activities/entertainment'].quantile(q=qp_100,  interpolation='lower').values\n",
    "total_q100 = df2['SPD_DTOT'].quantile(q=qp_100,  interpolation='lower').values\n",
    "accomodations_q100 = df2['SPD_D06'].quantile(q=qp_100,  interpolation='lower').values"
   ]
  },
  {
   "cell_type": "code",
   "execution_count": 11,
   "metadata": {},
   "outputs": [],
   "source": [
    "transport_q20 = df2['Total Spending for transport'].quantile(q=qp_20,  interpolation='lower').values\n",
    "food_q20 = df2['Total Spending for food/bevs'].quantile(q=qp_20,  interpolation='lower').values\n",
    "shopping_q20 = df2['Total spending on shopping'].quantile(q=qp_20,  interpolation='lower').values\n",
    "activities_q20 = df2['Total spending for activities/entertainment'].quantile(q=qp_20,  interpolation='lower').values\n",
    "total_q20 = df2['SPD_DTOT'].quantile(q=qp_20,  interpolation='lower').values\n",
    "accomodations_q20 = df2['SPD_D06'].quantile(q=qp_20,  interpolation='lower').values"
   ]
  },
  {
   "cell_type": "code",
   "execution_count": 12,
   "metadata": {},
   "outputs": [],
   "source": [
    "transport_q50 = df2['Total Spending for transport'].quantile(q=qp_50,  interpolation='lower').values\n",
    "food_q50 = df2['Total Spending for food/bevs'].quantile(q=qp_50,  interpolation='lower').values\n",
    "shopping_q50 = df2['Total spending on shopping'].quantile(q=qp_50,  interpolation='lower').values\n",
    "activities_q50 = df2['Total spending for activities/entertainment'].quantile(q=qp_50,  interpolation='lower').values\n",
    "total_q50 = df2['SPD_DTOT'].quantile(q=qp_50,  interpolation='lower').values\n",
    "accomodations_q50 = df2['SPD_D06'].quantile(q=qp_50,  interpolation='lower').values"
   ]
  },
  {
   "cell_type": "code",
   "execution_count": 22,
   "metadata": {},
   "outputs": [],
   "source": [
    "total_q20n = []\n",
    "total_q50n = []\n",
    "total_q100n = []\n",
    "\n",
    "for i in range(0, 100):\n",
    "    if (total_q100[i] != total_q100[i+1]) :\n",
    "        total_q100n.append(\"$\" + str(total_q100[i]) + \"-$\" + str(total_q100[i+1]))\n",
    "    if (i < 50):\n",
    "        if (total_q50[i] != total_q50[i+1]) :\n",
    "            total_q50n.append(\"$\" + str(total_q50[i]) + \"-$\" + str(total_q50[i+1]))\n",
    "        if (i < 20):\n",
    "                if (total_q20[i] != total_q20[i+1]) :\n",
    "                    total_q20n.append(\"$\" + str(total_q20[i]) + \"-$\" + str(total_q20[i+1]))"
   ]
  },
  {
   "cell_type": "code",
   "execution_count": 21,
   "metadata": {},
   "outputs": [
    {
     "data": {
      "text/plain": [
       "['$0-$5',\n",
       " '$5-$20',\n",
       " '$20-$20',\n",
       " '$20-$30',\n",
       " '$30-$35',\n",
       " '$35-$40',\n",
       " '$40-$47',\n",
       " '$47-$50',\n",
       " '$50-$52',\n",
       " '$52-$60',\n",
       " '$60-$65',\n",
       " '$65-$72',\n",
       " '$72-$80',\n",
       " '$80-$85',\n",
       " '$85-$95',\n",
       " '$95-$100',\n",
       " '$100-$100',\n",
       " '$100-$110',\n",
       " '$110-$120',\n",
       " '$120-$130',\n",
       " '$130-$140',\n",
       " '$140-$150',\n",
       " '$150-$160',\n",
       " '$160-$170',\n",
       " '$170-$185',\n",
       " '$185-$200',\n",
       " '$200-$210',\n",
       " '$210-$230',\n",
       " '$230-$250',\n",
       " '$250-$265',\n",
       " '$265-$288',\n",
       " '$288-$308',\n",
       " '$308-$340',\n",
       " '$340-$366',\n",
       " '$366-$400',\n",
       " '$400-$440',\n",
       " '$440-$480',\n",
       " '$480-$530',\n",
       " '$530-$587',\n",
       " '$587-$650',\n",
       " '$650-$719',\n",
       " '$719-$805',\n",
       " '$805-$920',\n",
       " '$920-$1050',\n",
       " '$1050-$1225',\n",
       " '$1225-$1467',\n",
       " '$1467-$1800',\n",
       " '$1800-$2330',\n",
       " '$2330-$3400',\n",
       " '$3400-$79003']"
      ]
     },
     "execution_count": 21,
     "metadata": {},
     "output_type": "execute_result"
    }
   ],
   "source": [
    "total_q50n\n"
   ]
  },
  {
   "cell_type": "code",
   "execution_count": 29,
   "metadata": {},
   "outputs": [
    {
     "name": "stderr",
     "output_type": "stream",
     "text": [
      "C:\\Users\\carte\\AppData\\Local\\Temp\\ipykernel_14232\\4183936793.py:1: SettingWithCopyWarning: \n",
      "A value is trying to be set on a copy of a slice from a DataFrame.\n",
      "Try using .loc[row_indexer,col_indexer] = value instead\n",
      "\n",
      "See the caveats in the documentation: https://pandas.pydata.org/pandas-docs/stable/user_guide/indexing.html#returning-a-view-versus-a-copy\n",
      "  df2['Total Bins (20)'] = pd.cut(df['SPD_DTOT'], total_q20, labels=total_q20n, duplicates='drop', include_lowest=True)\n",
      "C:\\Users\\carte\\AppData\\Local\\Temp\\ipykernel_14232\\4183936793.py:2: SettingWithCopyWarning: \n",
      "A value is trying to be set on a copy of a slice from a DataFrame.\n",
      "Try using .loc[row_indexer,col_indexer] = value instead\n",
      "\n",
      "See the caveats in the documentation: https://pandas.pydata.org/pandas-docs/stable/user_guide/indexing.html#returning-a-view-versus-a-copy\n",
      "  df2['Total Bins (50)'] = pd.cut(df['SPD_DTOT'], total_q50, labels=total_q50n, duplicates='drop', include_lowest=True)\n",
      "C:\\Users\\carte\\AppData\\Local\\Temp\\ipykernel_14232\\4183936793.py:3: SettingWithCopyWarning: \n",
      "A value is trying to be set on a copy of a slice from a DataFrame.\n",
      "Try using .loc[row_indexer,col_indexer] = value instead\n",
      "\n",
      "See the caveats in the documentation: https://pandas.pydata.org/pandas-docs/stable/user_guide/indexing.html#returning-a-view-versus-a-copy\n",
      "  df2['Total Bins (100)'] = pd.cut(df['SPD_DTOT'], total_q100, labels=total_q100n, duplicates='drop', include_lowest=True)\n"
     ]
    }
   ],
   "source": [
    "df2['Total Bins (20)'] = pd.cut(df['SPD_DTOT'], total_q20, labels=total_q20n, duplicates='drop', include_lowest=True)\n",
    "df2['Total Bins (50)'] = pd.cut(df['SPD_DTOT'], total_q50, labels=total_q50n, duplicates='drop', include_lowest=True)\n",
    "df2['Total Bins (100)'] = pd.cut(df['SPD_DTOT'], total_q100, labels=total_q100n, duplicates='drop', include_lowest=True)"
   ]
  },
  {
   "cell_type": "code",
   "execution_count": 28,
   "metadata": {},
   "outputs": [
    {
     "data": {
      "text/plain": [
       "['$0-$20',\n",
       " '$20-$35',\n",
       " '$35-$50',\n",
       " '$50-$60',\n",
       " '$60-$75',\n",
       " '$75-$95',\n",
       " '$95-$110',\n",
       " '$110-$130',\n",
       " '$130-$150',\n",
       " '$150-$185',\n",
       " '$185-$220',\n",
       " '$220-$265',\n",
       " '$265-$322',\n",
       " '$322-$400',\n",
       " '$400-$500',\n",
       " '$500-$650',\n",
       " '$650-$862',\n",
       " '$862-$1225',\n",
       " '$1225-$2024',\n",
       " '$2024-$79003']"
      ]
     },
     "execution_count": 28,
     "metadata": {},
     "output_type": "execute_result"
    }
   ],
   "source": [
    "total_q20n"
   ]
  }
 ],
 "metadata": {
  "kernelspec": {
   "display_name": "base",
   "language": "python",
   "name": "python3"
  },
  "language_info": {
   "codemirror_mode": {
    "name": "ipython",
    "version": 3
   },
   "file_extension": ".py",
   "mimetype": "text/x-python",
   "name": "python",
   "nbconvert_exporter": "python",
   "pygments_lexer": "ipython3",
   "version": "3.11.5"
  }
 },
 "nbformat": 4,
 "nbformat_minor": 2
}
