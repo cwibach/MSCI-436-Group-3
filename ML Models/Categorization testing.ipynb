{
 "cells": [
  {
   "cell_type": "code",
   "execution_count": 2,
   "metadata": {},
   "outputs": [
    {
     "name": "stdout",
     "output_type": "stream",
     "text": [
      "Requirement already satisfied: scikit-learn in c:\\users\\carte\\anaconda3\\lib\\site-packages (1.3.0)\n",
      "Requirement already satisfied: numpy>=1.17.3 in c:\\users\\carte\\anaconda3\\lib\\site-packages (from scikit-learn) (1.24.3)\n",
      "Requirement already satisfied: scipy>=1.5.0 in c:\\users\\carte\\anaconda3\\lib\\site-packages (from scikit-learn) (1.11.1)\n",
      "Requirement already satisfied: joblib>=1.1.1 in c:\\users\\carte\\anaconda3\\lib\\site-packages (from scikit-learn) (1.2.0)\n",
      "Requirement already satisfied: threadpoolctl>=2.0.0 in c:\\users\\carte\\anaconda3\\lib\\site-packages (from scikit-learn) (2.2.0)\n",
      "Note: you may need to restart the kernel to use updated packages.\n"
     ]
    }
   ],
   "source": [
    "%pip install scikit-learn"
   ]
  },
  {
   "cell_type": "code",
   "execution_count": 10,
   "metadata": {},
   "outputs": [],
   "source": [
    "import numpy as np\n",
    "import pandas as pd\n",
    "import seaborn as sns\n",
    "import matplotlib.pyplot as plt"
   ]
  },
  {
   "cell_type": "code",
   "execution_count": 2,
   "metadata": {},
   "outputs": [],
   "source": [
    "filepath = \"../data/Final Categorization Data.csv\"\n",
    "\n",
    "df = pd.read_csv(filepath)"
   ]
  },
  {
   "cell_type": "code",
   "execution_count": 97,
   "metadata": {},
   "outputs": [],
   "source": [
    "X1 = df[['Quarter', 'Origin Province', 'Destination Province', 'Main Reason']]\n",
    "XD = df[['DURATION']]\n",
    "\n",
    "Y1 = df['Total Bins (20)']"
   ]
  },
  {
   "cell_type": "code",
   "execution_count": 41,
   "metadata": {},
   "outputs": [
    {
     "name": "stdout",
     "output_type": "stream",
     "text": [
      "Train Index:  [  0   1   2   3   4   5   6   7   8  10  11  13  14  15  16  17  20  21\n",
      "  22  23  24  25  26  27  28  29  30  32  33  34  35  37  38  39  40  41\n",
      "  42  43  44  45  46  47  48  49  50  51  52  53  54  55  56  57  58  59\n",
      "  60  61  62  63  65  66  67  69  70  71  72  74  75  77  79  80  81  83\n",
      "  84  85  86  87  88  89  90  91  92  93  94  95  96  97  98  99 100 101\n",
      " 102 103 104 105 106 107 108 109 111 112 113 114 115 116 117 119 120 121\n",
      " 122 123 124 125 126 127 128 129 130 131 132 133 134 135 136 137 138 139\n",
      " 140 142 143 144 145 146 147 148 149]\n",
      "Test Index:  [  9  12  18  19  31  36  64  68  73  76  78  82 110 118 141]\n",
      "Train Index:  [  0   1   2   3   4   5   6   7   8   9  10  11  12  13  14  15  16  17\n",
      "  18  19  20  21  22  23  24  25  27  28  31  32  33  34  35  36  37  38\n",
      "  39  40  41  42  43  44  46  47  48  49  50  51  52  53  54  57  58  59\n",
      "  60  61  62  63  64  65  66  67  68  70  71  72  73  74  75  76  77  78\n",
      "  79  80  81  82  83  84  85  86  87  88  89  90  91  92  93  94  95  96\n",
      "  97  98  99 100 101 102 103 105 106 107 109 110 111 112 113 114 115 116\n",
      " 117 118 119 120 121 122 123 124 125 126 129 130 133 134 135 136 137 138\n",
      " 139 140 141 142 144 146 147 148 149]\n",
      "Test Index:  [ 26  29  30  45  55  56  69 104 108 127 128 131 132 143 145]\n",
      "Train Index:  [  0   1   2   3   5   6   7   8   9  12  13  14  17  18  19  20  21  23\n",
      "  24  25  26  28  29  30  31  33  34  35  36  37  38  39  40  41  43  44\n",
      "  45  46  47  48  49  50  52  53  54  55  56  57  58  59  60  61  62  63\n",
      "  64  66  67  68  69  70  71  72  73  74  75  76  77  78  79  80  81  82\n",
      "  83  84  87  88  89  90  91  92  93  94  95  96  97  98  99 100 101 102\n",
      " 103 104 105 106 107 108 109 110 111 112 113 114 115 116 117 118 119 120\n",
      " 121 122 123 124 125 126 127 128 129 130 131 132 133 134 135 136 137 138\n",
      " 139 140 141 143 144 145 147 148 149]\n",
      "Test Index:  [  4  10  11  15  16  22  27  32  42  51  65  85  86 142 146]\n",
      "Train Index:  [  1   2   3   4   5   6   7   8   9  10  11  12  13  14  15  16  17  18\n",
      "  19  20  21  22  23  24  25  26  27  29  30  31  32  33  34  35  36  37\n",
      "  38  39  41  42  43  45  46  47  48  49  50  51  52  53  54  55  56  57\n",
      "  58  59  61  62  63  64  65  68  69  70  71  72  73  74  76  77  78  79\n",
      "  80  82  83  84  85  86  87  88  89  90  91  92  93  94  95  97  98  99\n",
      " 100 101 102 103 104 106 107 108 110 111 112 113 114 115 116 117 118 119\n",
      " 120 121 123 124 125 126 127 128 129 130 131 132 134 135 136 138 139 140\n",
      " 141 142 143 144 145 146 147 148 149]\n",
      "Test Index:  [  0  28  40  44  60  66  67  75  81  96 105 109 122 133 137]\n",
      "Train Index:  [  0   1   2   3   4   5   6   7   8   9  10  11  12  13  14  15  16  17\n",
      "  18  19  20  21  22  26  27  28  29  30  31  32  34  35  36  37  38  40\n",
      "  41  42  43  44  45  46  48  49  50  51  52  53  54  55  56  57  58  59\n",
      "  60  61  63  64  65  66  67  68  69  70  71  72  73  74  75  76  77  78\n",
      "  79  80  81  82  83  84  85  86  87  88  89  90  91  92  93  96  98  99\n",
      " 100 102 103 104 105 106 107 108 109 110 111 112 114 115 116 118 119 120\n",
      " 121 122 124 125 126 127 128 129 130 131 132 133 134 135 136 137 139 140\n",
      " 141 142 143 144 145 146 147 148 149]\n",
      "Test Index:  [ 23  24  25  33  39  47  62  94  95  97 101 113 117 123 138]\n",
      "Train Index:  [  0   1   2   3   4   6   8   9  10  11  12  13  14  15  16  17  18  19\n",
      "  20  21  22  23  24  25  26  27  28  29  30  31  32  33  36  37  38  39\n",
      "  40  41  42  44  45  46  47  48  50  51  52  54  55  56  57  58  59  60\n",
      "  61  62  63  64  65  66  67  68  69  71  72  73  74  75  76  78  79  81\n",
      "  82  83  85  86  87  88  89  90  91  92  94  95  96  97  98  99 100 101\n",
      " 102 103 104 105 106 107 108 109 110 112 113 115 116 117 118 119 120 121\n",
      " 122 123 124 125 126 127 128 129 130 131 132 133 134 135 136 137 138 139\n",
      " 140 141 142 143 144 145 146 147 149]\n",
      "Test Index:  [  5   7  34  35  43  49  53  70  77  80  84  93 111 114 148]\n",
      "Train Index:  [  0   1   2   4   5   6   7   9  10  11  12  14  15  16  18  19  20  21\n",
      "  22  23  24  25  26  27  28  29  30  31  32  33  34  35  36  37  39  40\n",
      "  41  42  43  44  45  46  47  48  49  50  51  52  53  54  55  56  57  58\n",
      "  59  60  61  62  63  64  65  66  67  68  69  70  71  73  74  75  76  77\n",
      "  78  79  80  81  82  84  85  86  87  88  90  91  92  93  94  95  96  97\n",
      "  99 100 101 102 103 104 105 106 107 108 109 110 111 112 113 114 115 116\n",
      " 117 118 121 122 123 124 126 127 128 129 130 131 132 133 137 138 139 140\n",
      " 141 142 143 144 145 146 147 148 149]\n",
      "Test Index:  [  3   8  13  17  38  72  83  89  98 119 120 125 134 135 136]\n",
      "Train Index:  [  0   1   3   4   5   7   8   9  10  11  12  13  14  15  16  17  18  19\n",
      "  20  21  22  23  24  25  26  27  28  29  30  31  32  33  34  35  36  37\n",
      "  38  39  40  41  42  43  44  45  47  48  49  51  52  53  55  56  57  58\n",
      "  60  62  64  65  66  67  68  69  70  71  72  73  74  75  76  77  78  80\n",
      "  81  82  83  84  85  86  87  88  89  90  91  92  93  94  95  96  97  98\n",
      "  99 101 102 103 104 105 106 107 108 109 110 111 113 114 116 117 118 119\n",
      " 120 121 122 123 124 125 127 128 129 130 131 132 133 134 135 136 137 138\n",
      " 140 141 142 143 144 145 146 148 149]\n",
      "Test Index:  [  2   6  46  50  54  59  61  63  79 100 112 115 126 139 147]\n",
      "Train Index:  [  0   2   3   4   5   6   7   8   9  10  11  12  13  14  15  16  17  18\n",
      "  19  20  22  23  24  25  26  27  28  29  30  31  32  33  34  35  36  38\n",
      "  39  40  42  43  44  45  46  47  49  50  51  52  53  54  55  56  59  60\n",
      "  61  62  63  64  65  66  67  68  69  70  71  72  73  74  75  76  77  78\n",
      "  79  80  81  82  83  84  85  86  87  89  92  93  94  95  96  97  98  99\n",
      " 100 101 102 103 104 105 106 108 109 110 111 112 113 114 115 116 117 118\n",
      " 119 120 121 122 123 125 126 127 128 130 131 132 133 134 135 136 137 138\n",
      " 139 141 142 143 145 146 147 148 149]\n",
      "Test Index:  [  1  21  37  41  48  57  58  88  90  91 107 124 129 140 144]\n",
      "Train Index:  [  0   1   2   3   4   5   6   7   8   9  10  11  12  13  15  16  17  18\n",
      "  19  21  22  23  24  25  26  27  28  29  30  31  32  33  34  35  36  37\n",
      "  38  39  40  41  42  43  44  45  46  47  48  49  50  51  53  54  55  56\n",
      "  57  58  59  60  61  62  63  64  65  66  67  68  69  70  72  73  75  76\n",
      "  77  78  79  80  81  82  83  84  85  86  88  89  90  91  93  94  95  96\n",
      "  97  98 100 101 104 105 107 108 109 110 111 112 113 114 115 117 118 119\n",
      " 120 122 123 124 125 126 127 128 129 131 132 133 134 135 136 137 138 139\n",
      " 140 141 142 143 144 145 146 147 148]\n",
      "Test Index:  [ 14  20  52  71  74  87  92  99 102 103 106 116 121 130 149]\n",
      "0.9636363636363637\n"
     ]
    },
    {
     "data": {
      "text/plain": [
       "array([1.        , 0.93333333, 1.        , 0.93333333, 0.86666667,\n",
       "       1.        , 0.93333333, 1.        , 1.        , 1.        ])"
      ]
     },
     "execution_count": 41,
     "metadata": {},
     "output_type": "execute_result"
    }
   ],
   "source": [
    "from sklearn.datasets import load_iris\n",
    "from sklearn.neighbors  import KNeighborsClassifier\n",
    "from sklearn.model_selection import cross_val_score\n",
    "from sklearn.model_selection import KFold\n",
    "iris=load_iris()\n",
    "\n",
    "X=iris.data\n",
    "y=iris.target\n",
    "X=(X-np.min(X))/(np.max(X)-np.min(X))\n",
    "\n",
    "knn= KNeighborsClassifier(n_neighbors=3)\n",
    "\n",
    "# https://isheunesu48.medium.com/cross-validation-using-k-fold-with-scikit-learn-cfc44bf1ce6\n",
    "scores=[]\n",
    "kFold=KFold(n_splits=10,random_state=42,shuffle=True)\n",
    "for train_index,test_index in kFold.split(X):\n",
    "    print(\"Train Index: \", train_index)\n",
    "    print(\"Test Index: \", test_index)\n",
    "    \n",
    "    X_train, X_test, y_train, y_test = X[train_index], X[test_index], y[train_index], y[test_index]\n",
    "    knn.fit(X_train, y_train)\n",
    "    scores.append(knn.score(X_test, y_test))\n",
    "\n",
    "knn.fit(X_train,y_train)\n",
    "scores.append(knn.score(X_test,y_test))\n",
    "print(np.mean(scores))\n",
    "cross_val_score(knn, X, y, cv=10)"
   ]
  },
  {
   "cell_type": "code",
   "execution_count": 98,
   "metadata": {},
   "outputs": [],
   "source": [
    "from sklearn.preprocessing import LabelEncoder\n",
    "\n",
    "le = LabelEncoder()\n",
    "le.fit(Y1)\n",
    "Y2 = le.transform(Y1)"
   ]
  },
  {
   "cell_type": "code",
   "execution_count": 99,
   "metadata": {},
   "outputs": [],
   "source": [
    "from sklearn.preprocessing import OneHotEncoder\n",
    "\n",
    "quarter_list = ['1st Quarter', '2nd Quarter', '3rd Quarter', '4th Quarter']\n",
    "province_list = ['Newfoundland and Labrador', 'Prince Edward Island', 'Nova Scotia',\n",
    "               'New Brunswick', 'Quebec', 'Ontario', 'Manitoba', 'Saskatchewan','Alberta',\n",
    "               'British Columbia', 'Yukon','Northwest Territories', 'Nunavut']\n",
    "main_reason_list = ['Holiday/Leisure/Recreation', 'Friends/Relatives', 'Non-Business conference/convention/trade show',\n",
    "                    'Shopping', 'School/Study', 'Medical', 'Religion', 'Other Personal',\n",
    "                    'Business Meeting/Conference/Convention/Trade Show', 'Other Business']\n",
    "\n",
    "categories = [quarter_list, province_list, province_list, main_reason_list]\n",
    "\n",
    "enc = OneHotEncoder(handle_unknown='ignore')\n",
    "\n",
    "enc.fit(X1)\n",
    "X2 = enc.transform(X1).toarray()\n",
    "\n",
    "X3 = np.append(X2, XD.to_numpy(), axis = 1)"
   ]
  },
  {
   "cell_type": "code",
   "execution_count": 101,
   "metadata": {},
   "outputs": [],
   "source": [
    "from sklearn.ensemble import RandomForestClassifier\n",
    "\n",
    "rfclss = RandomForestClassifier(max_depth=4, random_state=0)"
   ]
  },
  {
   "cell_type": "code",
   "execution_count": 104,
   "metadata": {},
   "outputs": [],
   "source": [
    "from sklearn.model_selection import KFold\n",
    "\n",
    "kfold = KFold(n_splits=50,random_state=42,shuffle=True)"
   ]
  },
  {
   "cell_type": "code",
   "execution_count": 106,
   "metadata": {},
   "outputs": [
    {
     "name": "stdout",
     "output_type": "stream",
     "text": [
      "0.13171044265218093\n"
     ]
    },
    {
     "data": {
      "text/plain": [
       "array([0.13679745, 0.13679745, 0.14422057, 0.13149523, 0.13255567,\n",
       "       0.13997879, 0.13891835, 0.13255567, 0.1378579 , 0.14528102,\n",
       "       0.13361612, 0.14740191, 0.13891835, 0.13891835, 0.13361612,\n",
       "       0.14103924, 0.14209968, 0.13679745, 0.15164369, 0.13997879,\n",
       "       0.15376458, 0.14316013, 0.14103924, 0.14209968, 0.13679745,\n",
       "       0.13891835, 0.14528102, 0.14103924, 0.13997879, 0.13361612,\n",
       "       0.11983033, 0.14103924, 0.13361612, 0.11558855, 0.12195122,\n",
       "       0.11770944, 0.09968187, 0.10604454, 0.12195122, 0.11876988,\n",
       "       0.11346766, 0.09872611, 0.11464968, 0.11358811, 0.11677282,\n",
       "       0.11889597, 0.11146497, 0.11464968, 0.11252654, 0.10509554])"
      ]
     },
     "execution_count": 106,
     "metadata": {},
     "output_type": "execute_result"
    }
   ],
   "source": [
    "from sklearn.model_selection import cross_val_score\n",
    "scores = []\n",
    "\n",
    "\n",
    "for train_index,test_index in kfold.split(X3):\n",
    "    #print(\"Train Index: \", train_index)\n",
    "    #print(\"Test Index: \", test_index)\n",
    "    X_train, X_test, y_train, y_test = X3[train_index], X3[test_index], Y2[train_index], Y2[test_index]\n",
    "    rfclss.fit(X_train, y_train)\n",
    "    scores.append(rfclss.score(X_test, y_test))\n",
    "\n",
    "rfclss.fit(X_train, y_train)\n",
    "scores.append(rfclss.score(X_test, y_test))\n",
    "print(np.mean(scores))\n",
    "cross_val_score(rfclss, X3, Y2, cv=50)"
   ]
  }
 ],
 "metadata": {
  "kernelspec": {
   "display_name": "base",
   "language": "python",
   "name": "python3"
  },
  "language_info": {
   "codemirror_mode": {
    "name": "ipython",
    "version": 3
   },
   "file_extension": ".py",
   "mimetype": "text/x-python",
   "name": "python",
   "nbconvert_exporter": "python",
   "pygments_lexer": "ipython3",
   "version": "3.11.5"
  }
 },
 "nbformat": 4,
 "nbformat_minor": 2
}
