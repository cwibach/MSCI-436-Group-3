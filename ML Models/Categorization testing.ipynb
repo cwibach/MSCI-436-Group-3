{
 "cells": [
  {
   "cell_type": "code",
   "execution_count": 2,
   "metadata": {},
   "outputs": [
    {
     "name": "stdout",
     "output_type": "stream",
     "text": [
      "Requirement already satisfied: scikit-learn in c:\\users\\carte\\anaconda3\\lib\\site-packages (1.3.0)\n",
      "Requirement already satisfied: numpy>=1.17.3 in c:\\users\\carte\\anaconda3\\lib\\site-packages (from scikit-learn) (1.24.3)\n",
      "Requirement already satisfied: scipy>=1.5.0 in c:\\users\\carte\\anaconda3\\lib\\site-packages (from scikit-learn) (1.11.1)\n",
      "Requirement already satisfied: joblib>=1.1.1 in c:\\users\\carte\\anaconda3\\lib\\site-packages (from scikit-learn) (1.2.0)\n",
      "Requirement already satisfied: threadpoolctl>=2.0.0 in c:\\users\\carte\\anaconda3\\lib\\site-packages (from scikit-learn) (2.2.0)\n",
      "Note: you may need to restart the kernel to use updated packages.\n"
     ]
    }
   ],
   "source": [
    "%pip install scikit-learn"
   ]
  },
  {
   "cell_type": "code",
   "execution_count": 1,
   "metadata": {},
   "outputs": [],
   "source": [
    "import numpy as np\n",
    "import pandas as pd\n",
    "import seaborn as sns\n",
    "import matplotlib.pyplot as plt\n",
    "\n",
    "from sklearn.preprocessing import LabelEncoder\n",
    "from sklearn.preprocessing import OneHotEncoder\n",
    "from sklearn.ensemble import RandomForestClassifier\n",
    "from sklearn.model_selection import KFold\n",
    "from sklearn.model_selection import cross_val_score\n",
    "from sklearn.metrics import confusion_matrix\n",
    "from sklearn.metrics import ConfusionMatrixDisplay"
   ]
  },
  {
   "cell_type": "code",
   "execution_count": 2,
   "metadata": {},
   "outputs": [],
   "source": [
    "filepath = \"../data/Final Categorization Data.csv\"\n",
    "\n",
    "df = pd.read_csv(filepath).sort_values(by=['SPD_DTOT'])\n",
    "\n",
    "df['Origin Destination Province'] = df['Origin Province'] + df['Destination Province']\n",
    "df['Origin Destination Region'] = df['Origin Province'] + df['Destination Region']\n",
    "df['Origin Destination New Region'] = df['Origin Province'] + df['New Regions']\n",
    "df['Origin Destination Metro Area'] = df['Origin Province'] + df['Destination Metro Area']"
   ]
  },
  {
   "cell_type": "code",
   "execution_count": 27,
   "metadata": {},
   "outputs": [],
   "source": [
    "X1 = df[['Quarter', 'Origin Province', 'Destination Province', 'Main Reason']]\n",
    "XD = df[['DURATION']]\n",
    "\n",
    "Y1 = df['Total Bins (20)']\n",
    "y_labels = Y1.unique()"
   ]
  },
  {
   "cell_type": "code",
   "execution_count": 28,
   "metadata": {},
   "outputs": [],
   "source": [
    "le = LabelEncoder()\n",
    "le.fit(Y1)\n",
    "Y2 = le.transform(Y1)"
   ]
  },
  {
   "cell_type": "code",
   "execution_count": null,
   "metadata": {},
   "outputs": [],
   "source": [
    "le.classes_"
   ]
  },
  {
   "cell_type": "code",
   "execution_count": 31,
   "metadata": {},
   "outputs": [],
   "source": [
    "quarter_list = ['1st Quarter', '2nd Quarter', '3rd Quarter', '4th Quarter']\n",
    "province_list = ['Newfoundland and Labrador', 'Prince Edward Island', 'Nova Scotia',\n",
    "               'New Brunswick', 'Quebec', 'Ontario', 'Manitoba', 'Saskatchewan','Alberta',\n",
    "               'British Columbia', 'Yukon','Northwest Territories', 'Nunavut']\n",
    "main_reason_list = ['Holiday/Leisure/Recreation', 'Friends/Relatives', 'Non-Business conference/convention/trade show',\n",
    "                    'Shopping', 'School/Study', 'Medical', 'Religion', 'Other Personal',\n",
    "                    'Business Meeting/Conference/Convention/Trade Show', 'Other Business']\n",
    "\n",
    "categories = [quarter_list, province_list, province_list, main_reason_list]\n",
    "\n",
    "enc = OneHotEncoder(handle_unknown='ignore')\n",
    "\n",
    "enc.fit(X1)\n",
    "X2 = enc.transform(X1).toarray()\n",
    "\n",
    "X3 = np.append(X2, XD.to_numpy(), axis = 1)"
   ]
  },
  {
   "cell_type": "code",
   "execution_count": 32,
   "metadata": {},
   "outputs": [],
   "source": [
    "\n",
    "\n",
    "rfclss = RandomForestClassifier(max_depth=4, random_state=0)"
   ]
  },
  {
   "cell_type": "code",
   "execution_count": 33,
   "metadata": {},
   "outputs": [],
   "source": [
    "\n",
    "\n",
    "kfold = KFold(n_splits=10,random_state=42,shuffle=True)"
   ]
  },
  {
   "cell_type": "code",
   "execution_count": 34,
   "metadata": {},
   "outputs": [
    {
     "name": "stdout",
     "output_type": "stream",
     "text": [
      "0.13144342662719594\n"
     ]
    }
   ],
   "source": [
    "\n",
    "scores = []\n",
    "y_true = []\n",
    "y_pred = []\n",
    "y_true_num = []\n",
    "y_pred_num = []\n",
    "\n",
    "\n",
    "for train_index,test_index in kfold.split(X3):\n",
    "    #print(\"Train Index: \", train_index)\n",
    "    #print(\"Test Index: \", test_index)\n",
    "    X_train, X_test, y_train, y_test = X3[train_index], X3[test_index], Y2[train_index], Y2[test_index]\n",
    "    rfclss.fit(X_train, y_train)\n",
    "    y_pred_new = rfclss.predict(X_test)\n",
    "    scores.append(rfclss.score(X_test, y_test))\n",
    "    y_true = np.append(y_true, le.inverse_transform(y_test))\n",
    "    y_true_num = np.append(y_true_num, y_test)\n",
    "    y_pred = np.append(y_pred, le.inverse_transform(y_pred_new))\n",
    "    y_pred_num = np.append(y_pred_num, y_pred_new)\n",
    "\n",
    "rfclss.fit(X_train, y_train)\n",
    "y_pred_new = rfclss.predict(X_test)\n",
    "scores.append(rfclss.score(X_test, y_test))\n",
    "y_true = np.append(y_true, le.inverse_transform(y_test))\n",
    "y_true_num = np.append(y_true_num, y_test)\n",
    "y_pred = np.append(y_pred, le.inverse_transform(y_pred_new))\n",
    "y_pred_num = np.append(y_pred_num, y_pred_new)\n",
    "print(np.mean(scores))\n",
    "print(average_diff(y_true_num, y_pred_num))\n",
    "cm = confusion_matrix(y_true, y_pred)\n",
    "#cross_val_score(rfclss, X3, Y2, cv=10)"
   ]
  },
  {
   "cell_type": "code",
   "execution_count": 8,
   "metadata": {},
   "outputs": [],
   "source": [
    "def average_diff(array1, array2):\n",
    "    totaldiff = 0\n",
    "    numpoints = len(array1)\n",
    "    for i in range(0, numpoints):\n",
    "        diff = abs(array1[i] - array2[i])\n",
    "        totaldiff += diff\n",
    "\n",
    "    return float(totaldiff)/float(numpoints)    \n"
   ]
  },
  {
   "cell_type": "code",
   "execution_count": null,
   "metadata": {},
   "outputs": [],
   "source": [
    "disp = ConfusionMatrixDisplay(cm)\n",
    "disp.plot()\n",
    "plt.show()"
   ]
  },
  {
   "cell_type": "code",
   "execution_count": 4,
   "metadata": {},
   "outputs": [],
   "source": [
    "def rfmodel(cat_features, num_features, label, max_depth, n_splits, use_cm=False, seed=0):\n",
    "\n",
    "    X1 = df[cat_features]\n",
    "    XD = df[num_features]\n",
    "\n",
    "    Y1 = df[label]\n",
    "\n",
    "    le = LabelEncoder()\n",
    "    le.fit(Y1)\n",
    "    Y2 = le.transform(Y1)\n",
    "\n",
    "    enc = OneHotEncoder(handle_unknown='ignore')\n",
    "\n",
    "    enc.fit(X1)\n",
    "    X2 = enc.transform(X1).toarray()\n",
    "\n",
    "    X3 = np.append(X2, XD.to_numpy(), axis = 1)\n",
    "\n",
    "    rfclss = RandomForestClassifier(max_depth=max_depth, random_state=seed)\n",
    "\n",
    "    kfold = KFold(n_splits=n_splits,random_state=42,shuffle=True)\n",
    "\n",
    "    scores = []\n",
    "\n",
    "    y_true = []\n",
    "    y_pred = []\n",
    "    y_true_num = []\n",
    "    y_pred_num = []\n",
    "\n",
    "\n",
    "    for train_index,test_index in kfold.split(X3):\n",
    "        X_train, X_test, y_train, y_test = X3[train_index], X3[test_index], Y2[train_index], Y2[test_index]\n",
    "        rfclss.fit(X_train, y_train)\n",
    "        y_pred_new = rfclss.predict(X_test)\n",
    "        scores.append(rfclss.score(X_test, y_test))\n",
    "        \n",
    "        y_true = np.append(y_true, le.inverse_transform(y_test))\n",
    "        y_true_num = np.append(y_true_num, y_test)\n",
    "        y_pred = np.append(y_pred, le.inverse_transform(y_pred_new))\n",
    "        y_pred_num = np.append(y_pred_num, y_pred_new)\n",
    "\n",
    "    rfclss.fit(X_train, y_train)\n",
    "    y_pred_new = rfclss.predict(X_test)\n",
    "    scores.append(rfclss.score(X_test, y_test))\n",
    "    y_true = np.append(y_true, le.inverse_transform(y_test))\n",
    "    y_true_num = np.append(y_true_num, y_test)\n",
    "    y_pred = np.append(y_pred, le.inverse_transform(y_pred_new))\n",
    "    y_pred_num = np.append(y_pred_num, y_pred_new)\n",
    "    print(\"Categorical Features: \" + str(cat_features))\n",
    "    print(\"Numeric Features: \" + str(num_features))\n",
    "    print(\"Label: \" + label)\n",
    "    print(\"Max Depth: \" + str(max_depth))\n",
    "    print(\"k_fold: \" + str(n_splits))\n",
    "    print(\"Mean Score: \" + str(np.mean(scores)))\n",
    "    print(\"Mean Squared Error: \" + str(average_diff(y_true_num, y_pred_num)))\n",
    "    print(\"\\n\")\n",
    "\n",
    "    if (use_cm):\n",
    "        cm = confusion_matrix(y_true, y_pred)\n",
    "        disp = ConfusionMatrixDisplay(cm)\n",
    "        disp.plot(include_values=False)\n",
    "        plt.show()"
   ]
  },
  {
   "cell_type": "code",
   "execution_count": 42,
   "metadata": {},
   "outputs": [],
   "source": [
    "from sklearn.neighbors import KNeighborsClassifier\n",
    "def knnmodel(cat_features, num_features, label, k, n_splits, use_cm=False, seed=0):\n",
    "\n",
    "    X1 = df[cat_features]\n",
    "    XD = df[num_features]\n",
    "\n",
    "    Y1 = df[label]\n",
    "\n",
    "    le = LabelEncoder()\n",
    "    le.fit(Y1)\n",
    "    Y2 = le.transform(Y1)\n",
    "\n",
    "    enc = OneHotEncoder(handle_unknown='ignore')\n",
    "\n",
    "    enc.fit(X1)\n",
    "    X2 = enc.transform(X1).toarray()\n",
    "\n",
    "    X3 = np.append(X2, XD.to_numpy(), axis = 1)\n",
    "\n",
    "    knn = KNeighborsClassifier(k, p=2)\n",
    "\n",
    "    kfold = KFold(n_splits=n_splits,random_state=42,shuffle=True)\n",
    "\n",
    "    scores = []\n",
    "    y_true = []\n",
    "    y_pred = []\n",
    "    y_true_num = []\n",
    "    y_pred_num = []\n",
    "\n",
    "\n",
    "    for train_index,test_index in kfold.split(X3):\n",
    "        X_train, X_test, y_train, y_test = X3[train_index], X3[test_index], Y2[train_index], Y2[test_index]\n",
    "        knn.fit(X_train, y_train)\n",
    "        y_pred_new = knn.predict(X_test)\n",
    "        scores.append(knn.score(X_test, y_test))\n",
    "        y_true = np.append(y_true, le.inverse_transform(y_test))\n",
    "        y_true_num = np.append(y_true_num, y_test)\n",
    "        y_pred = np.append(y_pred, le.inverse_transform(y_pred_new))\n",
    "        y_pred_num = np.append(y_pred_num, y_pred_new)\n",
    "\n",
    "    knn.fit(X_train, y_train)\n",
    "    y_pred_new = knn.predict(X_test)\n",
    "    scores.append(knn.score(X_test, y_test))\n",
    "    y_true = np.append(y_true, le.inverse_transform(y_test))\n",
    "    y_true_num = np.append(y_true_num, y_test)\n",
    "    y_pred = np.append(y_pred, le.inverse_transform(y_pred_new))\n",
    "    y_pred_num = np.append(y_pred_num, y_pred_new)\n",
    "    print(\"Categorical Features: \" + str(cat_features))\n",
    "    print(\"Numeric Features: \" + str(num_features))\n",
    "    print(\"Label: \" + label)\n",
    "    print(\"K-Neighbours: \" + str(k))\n",
    "    print(\"k_fold: \" + str(n_splits))\n",
    "    print(\"Mean Score: \" + str(np.mean(scores)))\n",
    "    print(\"Mean Squared Error: \" + str(average_diff(y_true_num, y_pred_num)))\n",
    "    print(\"\\n\")\n",
    "\n",
    "    if (use_cm):\n",
    "        cm = confusion_matrix(y_true, y_pred)\n",
    "        disp = ConfusionMatrixDisplay(cm)\n",
    "        disp.plot(include_values=False)\n",
    "        plt.show()"
   ]
  },
  {
   "cell_type": "code",
   "execution_count": 47,
   "metadata": {},
   "outputs": [],
   "source": [
    "from sklearn.naive_bayes import GaussianNB\n",
    "def gnbmodel(cat_features, num_features, label, n_splits, use_cm=False, seed=0):\n",
    "\n",
    "    X1 = df[cat_features]\n",
    "    XD = df[num_features]\n",
    "\n",
    "    Y1 = df[label]\n",
    "\n",
    "    le = LabelEncoder()\n",
    "    le.fit(Y1)\n",
    "    Y2 = le.transform(Y1)\n",
    "\n",
    "    enc = OneHotEncoder(handle_unknown='ignore')\n",
    "\n",
    "    enc.fit(X1)\n",
    "    X2 = enc.transform(X1).toarray()\n",
    "\n",
    "    X3 = np.append(X2, XD.to_numpy(), axis = 1)\n",
    "\n",
    "    gnb = GaussianNB()\n",
    "\n",
    "    kfold = KFold(n_splits=n_splits,random_state=42,shuffle=True)\n",
    "\n",
    "    scores = []\n",
    "    y_true = []\n",
    "    y_pred = []\n",
    "    y_true_num = []\n",
    "    y_pred_num = []\n",
    "\n",
    "\n",
    "    for train_index,test_index in kfold.split(X3):\n",
    "        X_train, X_test, y_train, y_test = X3[train_index], X3[test_index], Y2[train_index], Y2[test_index]\n",
    "        gnb.fit(X_train, y_train)\n",
    "        y_pred_new = gnb.predict(X_test)\n",
    "        scores.append(gnb.score(X_test, y_test))\n",
    "        y_true = np.append(y_true, le.inverse_transform(y_test))\n",
    "        y_true_num = np.append(y_true_num, y_test)\n",
    "        y_pred = np.append(y_pred, le.inverse_transform(y_pred_new))\n",
    "        y_pred_num = np.append(y_pred_num, y_pred_new)\n",
    "\n",
    "    gnb.fit(X_train, y_train)\n",
    "    y_pred_new = gnb.predict(X_test)\n",
    "    scores.append(gnb.score(X_test, y_test))\n",
    "    y_true = np.append(y_true, le.inverse_transform(y_test))\n",
    "    y_true_num = np.append(y_true_num, y_test)\n",
    "    y_pred = np.append(y_pred, le.inverse_transform(y_pred_new))\n",
    "    y_pred_num = np.append(y_pred_num, y_pred_new)\n",
    "    print(\"Categorical Features: \" + str(cat_features))\n",
    "    print(\"Numeric Features: \" + str(num_features))\n",
    "    print(\"Label: \" + label)\n",
    "    print(\"k_fold: \" + str(n_splits))\n",
    "    print(\"Mean Score: \" + str(np.mean(scores)))\n",
    "    print(\"Mean Squared Error: \" + str(average_diff(y_true_num, y_pred_num)))\n",
    "    print(\"\\n\")\n",
    "\n",
    "    if (use_cm):\n",
    "        cm = confusion_matrix(y_true, y_pred)\n",
    "        disp = ConfusionMatrixDisplay(cm)\n",
    "        disp.plot(include_values=False)\n",
    "        plt.show()"
   ]
  },
  {
   "cell_type": "code",
   "execution_count": 13,
   "metadata": {},
   "outputs": [
    {
     "name": "stdout",
     "output_type": "stream",
     "text": [
      "Categorical Features: ['Origin Province', 'Destination Region', 'Main Reason', 'Visit Friends & Family', 'Restaurant/Bar/Club', 'Shopping', 'Sightseeing', 'Museum/Art Gallery', 'Historic site', 'Zoo/Aquarium', 'Wildife Viewing/Bird Watching', 'National/Provincial/Nature Park']\n",
      "Numeric Features: ['DURATION', 'GNCQ06A', 'GNCQ06B']\n",
      "Label: Total Bins (20)\n",
      "Max Depth: 9\n",
      "k_fold: 10\n",
      "Mean Score: 0.14698671255017712\n",
      "Mean Squared Error: 5.495593481824318\n",
      "\n",
      "\n"
     ]
    },
    {
     "data": {
      "image/png": "[encoded data removed]",
      "text/plain": [
       "<Figure size 640x480 with 2 Axes>"
      ]
     },
     "metadata": {},
     "output_type": "display_data"
    }
   ],
   "source": [
    "cat_features = ['Origin Province','Destination Region', 'Main Reason', 'Visit Friends & Family', \"Restaurant/Bar/Club\", \n",
    "                \"Shopping\", \"Sightseeing\", \"Museum/Art Gallery\", \"Historic site\", \"Zoo/Aquarium\", \"Wildife Viewing/Bird Watching\", \"National/Provincial/Nature Park\"]\n",
    "num_features = ['DURATION', 'GNCQ06A', 'GNCQ06B']\n",
    "labels = ['Total Bins (20)']\n",
    "max_depth = 9\n",
    "k=3\n",
    "n_splits = 10\n",
    "\n",
    "for label in labels:\n",
    "    rfmodel(cat_features, num_features, label, max_depth, n_splits, True, seed=1)\n",
    "    #knnmodel(cat_features, num_features, label, k, n_splits, seed=1)\n",
    "    #gnbmodel(cat_features, num_features, label, n_splits, seed=1)"
   ]
  }
 ],
 "metadata": {
  "kernelspec": {
   "display_name": "base",
   "language": "python",
   "name": "python3"
  },
  "language_info": {
   "codemirror_mode": {
    "name": "ipython",
    "version": 3
   },
   "file_extension": ".py",
   "mimetype": "text/x-python",
   "name": "python",
   "nbconvert_exporter": "python",
   "pygments_lexer": "ipython3",
   "version": "3.11.5"
  }
 },
 "nbformat": 4,
 "nbformat_minor": 2
}
