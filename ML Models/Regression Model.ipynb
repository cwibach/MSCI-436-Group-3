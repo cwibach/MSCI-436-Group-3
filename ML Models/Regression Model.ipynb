{
 "cells": [
  {
   "cell_type": "code",
   "execution_count": 1,
   "metadata": {},
   "outputs": [],
   "source": [
    "import numpy as np\n",
    "import pandas as pd"
   ]
  },
  {
   "cell_type": "code",
   "execution_count": 2,
   "metadata": {},
   "outputs": [],
   "source": [
    "from sklearn.model_selection import train_test_split\n",
    "# from sklearn.model_selection import KFold, cross_val_score\n",
    "from sklearn.linear_model import LinearRegression\n",
    "# from sklearn.metrics import mean_squared_error, mean_absolute_error"
   ]
  },
  {
   "cell_type": "code",
   "execution_count": 3,
   "metadata": {},
   "outputs": [],
   "source": [
    "filepath = \"../data/Final Categorization Data.csv\"\n",
    "df = pd.read_csv(filepath)\n",
    "\n",
    "#drop extra binned columns for categorization models\n",
    "df = df.drop(df.iloc[:,82:100], axis = 1)\n",
    "df['Origin Destination New Region'] = df['Origin Province'] + df['New Regions']\n",
    "#one hot encode remaining categorical variables\n",
    "one_hot_columns = [\"Main Transportation Method\", \"Quarter\", \"Main Reason\" ]\n",
    "df2 = pd.get_dummies(df, columns = one_hot_columns)\n",
    "df2 = pd.get_dummies(df2, columns = [\"Origin Destination New Region\"])"
   ]
  },
  {
   "cell_type": "code",
   "execution_count": 9,
   "metadata": {},
   "outputs": [],
   "source": [
    "#get list of column names for each feature\n",
    "transport_cols = [col for col in df2.columns if ('Main Transportation Method') in col]\n",
    "quarter_cols = [col for col in df2.columns if 'Quarter' in col]\n",
    "mainreason_cols = [col for col in df2.columns if 'Main Reason' in col]\n",
    "Origin_Destination_New_Region_cols = [col for col in df2.columns if 'Origin Destination New Region' in col]\n",
    "\n",
    "#get dataframe subsets based on list of col names \n",
    "num_features = df2.loc[:,[\"DURATION\", \"GNCQ06A\", \"GNCQ06B\"]]\n",
    "transport = df2.loc[:,transport_cols]\n",
    "quarter = df2.loc[:,quarter_cols]\n",
    "main_reason = df2.loc[:,mainreason_cols]\n",
    "ori_dest_newregion = df2.loc[:,Origin_Destination_New_Region_cols]\n",
    "high_correlation_activities_cols =  df2.loc[:,['Visit Friends & Family', \"Restaurant/Bar/Club\", \"Shopping\", \"Sightseeing\", \"Museum/Art Gallery\", \"Historic site\", \"Zoo/Aquarium\", \"Wildife Viewing/Bird Watching\", \"National/Provincial/Nature Park\"]]\n",
    "\n",
    "# same as above but dependent feature \n",
    "total_spend = df2.loc[:,[\"SPD_DTOT\"]]"
   ]
  },
  {
   "cell_type": "code",
   "execution_count": 14,
   "metadata": {},
   "outputs": [
    {
     "name": "stdout",
     "output_type": "stream",
     "text": [
      "['DURATION', 'GNCQ06A', 'GNCQ06B', 'Origin Destination New Region_AlbertaCalgary Area', 'Origin Destination New Region_AlbertaCentral Alberta', 'Origin Destination New Region_AlbertaCentral Saskatchewan', 'Origin Destination New Region_AlbertaEastern Ontario', 'Origin Destination New Region_AlbertaEdmonton Area', 'Origin Destination New Region_AlbertaGTA', 'Origin Destination New Region_AlbertaHamilton-Niagara', 'Origin Destination New Region_AlbertaMontreal Region', 'Origin Destination New Region_AlbertaNew Brunswick', 'Origin Destination New Region_AlbertaNewfoundland', 'Origin Destination New Region_AlbertaNorth Alberta', 'Origin Destination New Region_AlbertaNorth Manitoba', 'Origin Destination New Region_AlbertaNorth Saskatchewan', 'Origin Destination New Region_AlbertaNorth of Toronto', 'Origin Destination New Region_AlbertaNorthern BC', 'Origin Destination New Region_AlbertaNorthern Ontario', 'Origin Destination New Region_AlbertaNova Scotia', 'Origin Destination New Region_AlbertaOther Areas', 'Origin Destination New Region_AlbertaPrince Edward Island', 'Origin Destination New Region_AlbertaQuebec City to Saguenay', 'Origin Destination New Region_AlbertaRegina', 'Origin Destination New Region_AlbertaRocky Mountains', 'Origin Destination New Region_AlbertaSaskatoon', 'Origin Destination New Region_AlbertaSouth Alberta', 'Origin Destination New Region_AlbertaSouth Manitoba', 'Origin Destination New Region_AlbertaSouth Ontario', 'Origin Destination New Region_AlbertaSouth Saskatchewan', 'Origin Destination New Region_AlbertaTerritories', 'Origin Destination New Region_AlbertaThompson-Okanagan', 'Origin Destination New Region_AlbertaVancouver Region', 'Origin Destination New Region_AlbertaWestern Quebec', 'Origin Destination New Region_British ColumbiaAtlantic Quebec', 'Origin Destination New Region_British ColumbiaCalgary Area', 'Origin Destination New Region_British ColumbiaCentral Alberta', 'Origin Destination New Region_British ColumbiaCentral Saskatchewan', 'Origin Destination New Region_British ColumbiaEastern Ontario', 'Origin Destination New Region_British ColumbiaEdmonton Area', 'Origin Destination New Region_British ColumbiaGTA', 'Origin Destination New Region_British ColumbiaHamilton-Niagara', 'Origin Destination New Region_British ColumbiaMontreal Region', 'Origin Destination New Region_British ColumbiaNew Brunswick', 'Origin Destination New Region_British ColumbiaNewfoundland', 'Origin Destination New Region_British ColumbiaNorth Alberta', 'Origin Destination New Region_British ColumbiaNorth Manitoba', 'Origin Destination New Region_British ColumbiaNorth Saskatchewan', 'Origin Destination New Region_British ColumbiaNorth of Toronto', 'Origin Destination New Region_British ColumbiaNorthern BC', 'Origin Destination New Region_British ColumbiaNorthern Ontario', 'Origin Destination New Region_British ColumbiaNova Scotia', 'Origin Destination New Region_British ColumbiaOther Areas', 'Origin Destination New Region_British ColumbiaPrince Edward Island', 'Origin Destination New Region_British ColumbiaQuebec City to Saguenay', 'Origin Destination New Region_British ColumbiaRegina', 'Origin Destination New Region_British ColumbiaRocky Mountains', 'Origin Destination New Region_British ColumbiaSaskatoon', 'Origin Destination New Region_British ColumbiaSouth Alberta', 'Origin Destination New Region_British ColumbiaSouth East Quebec', 'Origin Destination New Region_British ColumbiaSouth Manitoba', 'Origin Destination New Region_British ColumbiaSouth Ontario', 'Origin Destination New Region_British ColumbiaSouth Saskatchewan', 'Origin Destination New Region_British ColumbiaTerritories', 'Origin Destination New Region_British ColumbiaThompson-Okanagan', 'Origin Destination New Region_British ColumbiaVancouver Region', 'Origin Destination New Region_British ColumbiaWestern Quebec', 'Origin Destination New Region_ManitobaCalgary Area', 'Origin Destination New Region_ManitobaCentral Alberta', 'Origin Destination New Region_ManitobaCentral Saskatchewan', 'Origin Destination New Region_ManitobaEastern Ontario', 'Origin Destination New Region_ManitobaEdmonton Area', 'Origin Destination New Region_ManitobaGTA', 'Origin Destination New Region_ManitobaHamilton-Niagara', 'Origin Destination New Region_ManitobaMontreal Region', 'Origin Destination New Region_ManitobaNew Brunswick', 'Origin Destination New Region_ManitobaNewfoundland', 'Origin Destination New Region_ManitobaNorth Alberta', 'Origin Destination New Region_ManitobaNorth Manitoba', 'Origin Destination New Region_ManitobaNorth Saskatchewan', 'Origin Destination New Region_ManitobaNorth of Toronto', 'Origin Destination New Region_ManitobaNorthern BC', 'Origin Destination New Region_ManitobaNorthern Ontario', 'Origin Destination New Region_ManitobaNova Scotia', 'Origin Destination New Region_ManitobaOther Areas', 'Origin Destination New Region_ManitobaPrince Edward Island', 'Origin Destination New Region_ManitobaQuebec City to Saguenay', 'Origin Destination New Region_ManitobaRegina', 'Origin Destination New Region_ManitobaRocky Mountains', 'Origin Destination New Region_ManitobaSaskatoon', 'Origin Destination New Region_ManitobaSouth Alberta', 'Origin Destination New Region_ManitobaSouth East Quebec', 'Origin Destination New Region_ManitobaSouth Manitoba', 'Origin Destination New Region_ManitobaSouth Ontario', 'Origin Destination New Region_ManitobaSouth Saskatchewan', 'Origin Destination New Region_ManitobaThompson-Okanagan', 'Origin Destination New Region_ManitobaVancouver Region', 'Origin Destination New Region_ManitobaWestern Quebec', 'Origin Destination New Region_New BrunswickAtlantic Quebec', 'Origin Destination New Region_New BrunswickCalgary Area', 'Origin Destination New Region_New BrunswickEastern Ontario', 'Origin Destination New Region_New BrunswickEdmonton Area', 'Origin Destination New Region_New BrunswickGTA', 'Origin Destination New Region_New BrunswickHamilton-Niagara', 'Origin Destination New Region_New BrunswickMontreal Region', 'Origin Destination New Region_New BrunswickNew Brunswick', 'Origin Destination New Region_New BrunswickNewfoundland', 'Origin Destination New Region_New BrunswickNorth Alberta', 'Origin Destination New Region_New BrunswickNorth of Toronto', 'Origin Destination New Region_New BrunswickNorthern BC', 'Origin Destination New Region_New BrunswickNorthern Ontario', 'Origin Destination New Region_New BrunswickNova Scotia', 'Origin Destination New Region_New BrunswickOther Areas', 'Origin Destination New Region_New BrunswickPrince Edward Island', 'Origin Destination New Region_New BrunswickQuebec City to Saguenay', 'Origin Destination New Region_New BrunswickRegina', 'Origin Destination New Region_New BrunswickRocky Mountains', 'Origin Destination New Region_New BrunswickSaskatoon', 'Origin Destination New Region_New BrunswickSouth East Quebec', 'Origin Destination New Region_New BrunswickSouth Ontario', 'Origin Destination New Region_New BrunswickTerritories', 'Origin Destination New Region_New BrunswickThompson-Okanagan', 'Origin Destination New Region_New BrunswickVancouver Region', 'Origin Destination New Region_New BrunswickWestern Quebec', 'Origin Destination New Region_Newfoundland and LabradorAtlantic Quebec', 'Origin Destination New Region_Newfoundland and LabradorCalgary Area', 'Origin Destination New Region_Newfoundland and LabradorCentral Alberta', 'Origin Destination New Region_Newfoundland and LabradorEastern Ontario', 'Origin Destination New Region_Newfoundland and LabradorEdmonton Area', 'Origin Destination New Region_Newfoundland and LabradorGTA', 'Origin Destination New Region_Newfoundland and LabradorHamilton-Niagara', 'Origin Destination New Region_Newfoundland and LabradorLabrador', 'Origin Destination New Region_Newfoundland and LabradorMontreal Region', 'Origin Destination New Region_Newfoundland and LabradorNew Brunswick', 'Origin Destination New Region_Newfoundland and LabradorNewfoundland', 'Origin Destination New Region_Newfoundland and LabradorNorth Alberta', 'Origin Destination New Region_Newfoundland and LabradorNorth of Toronto', 'Origin Destination New Region_Newfoundland and LabradorNorthern Quebec', 'Origin Destination New Region_Newfoundland and LabradorNova Scotia', 'Origin Destination New Region_Newfoundland and LabradorOther Areas', 'Origin Destination New Region_Newfoundland and LabradorPrince Edward Island', 'Origin Destination New Region_Newfoundland and LabradorQuebec City to Saguenay', 'Origin Destination New Region_Newfoundland and LabradorRegina', 'Origin Destination New Region_Newfoundland and LabradorSouth Ontario', 'Origin Destination New Region_Newfoundland and LabradorTerritories', 'Origin Destination New Region_Newfoundland and LabradorThompson-Okanagan', 'Origin Destination New Region_Newfoundland and LabradorVancouver Region', 'Origin Destination New Region_Newfoundland and LabradorWestern Quebec', 'Origin Destination New Region_Nova ScotiaAtlantic Quebec', 'Origin Destination New Region_Nova ScotiaCalgary Area', 'Origin Destination New Region_Nova ScotiaCentral Saskatchewan', 'Origin Destination New Region_Nova ScotiaEastern Ontario', 'Origin Destination New Region_Nova ScotiaEdmonton Area', 'Origin Destination New Region_Nova ScotiaGTA', 'Origin Destination New Region_Nova ScotiaHamilton-Niagara', 'Origin Destination New Region_Nova ScotiaMontreal Region', 'Origin Destination New Region_Nova ScotiaNew Brunswick', 'Origin Destination New Region_Nova ScotiaNewfoundland', 'Origin Destination New Region_Nova ScotiaNorth Alberta', 'Origin Destination New Region_Nova ScotiaNorth Manitoba', 'Origin Destination New Region_Nova ScotiaNorth of Toronto', 'Origin Destination New Region_Nova ScotiaNorthern Ontario', 'Origin Destination New Region_Nova ScotiaNova Scotia', 'Origin Destination New Region_Nova ScotiaOther Areas', 'Origin Destination New Region_Nova ScotiaPrince Edward Island', 'Origin Destination New Region_Nova ScotiaQuebec City to Saguenay', 'Origin Destination New Region_Nova ScotiaRegina', 'Origin Destination New Region_Nova ScotiaRocky Mountains', 'Origin Destination New Region_Nova ScotiaSaskatoon', 'Origin Destination New Region_Nova ScotiaSouth Alberta', 'Origin Destination New Region_Nova ScotiaSouth East Quebec', 'Origin Destination New Region_Nova ScotiaSouth Ontario', 'Origin Destination New Region_Nova ScotiaTerritories', 'Origin Destination New Region_Nova ScotiaVancouver Region', 'Origin Destination New Region_Nova ScotiaWestern Quebec', 'Origin Destination New Region_OntarioAtlantic Quebec', 'Origin Destination New Region_OntarioCalgary Area', 'Origin Destination New Region_OntarioCentral Alberta', 'Origin Destination New Region_OntarioCentral Saskatchewan', 'Origin Destination New Region_OntarioEastern Ontario', 'Origin Destination New Region_OntarioEdmonton Area', 'Origin Destination New Region_OntarioGTA', 'Origin Destination New Region_OntarioHamilton-Niagara', 'Origin Destination New Region_OntarioMontreal Region', 'Origin Destination New Region_OntarioNew Brunswick', 'Origin Destination New Region_OntarioNewfoundland', 'Origin Destination New Region_OntarioNorth Alberta', 'Origin Destination New Region_OntarioNorth Manitoba', 'Origin Destination New Region_OntarioNorth of Toronto', 'Origin Destination New Region_OntarioNorthern BC', 'Origin Destination New Region_OntarioNorthern Ontario', 'Origin Destination New Region_OntarioNova Scotia', 'Origin Destination New Region_OntarioOther Areas', 'Origin Destination New Region_OntarioPrince Edward Island', 'Origin Destination New Region_OntarioQuebec City to Saguenay', 'Origin Destination New Region_OntarioRegina', 'Origin Destination New Region_OntarioRocky Mountains', 'Origin Destination New Region_OntarioSaskatoon', 'Origin Destination New Region_OntarioSouth Alberta', 'Origin Destination New Region_OntarioSouth East Quebec', 'Origin Destination New Region_OntarioSouth Manitoba', 'Origin Destination New Region_OntarioSouth Ontario', 'Origin Destination New Region_OntarioSouth Saskatchewan', 'Origin Destination New Region_OntarioTerritories', 'Origin Destination New Region_OntarioThompson-Okanagan', 'Origin Destination New Region_OntarioTrois-Rivieres Region', 'Origin Destination New Region_OntarioVancouver Region', 'Origin Destination New Region_OntarioWestern Quebec', 'Origin Destination New Region_Prince Edward IslandAtlantic Quebec', 'Origin Destination New Region_Prince Edward IslandCalgary Area', 'Origin Destination New Region_Prince Edward IslandCentral Alberta', 'Origin Destination New Region_Prince Edward IslandEastern Ontario', 'Origin Destination New Region_Prince Edward IslandEdmonton Area', 'Origin Destination New Region_Prince Edward IslandGTA', 'Origin Destination New Region_Prince Edward IslandHamilton-Niagara', 'Origin Destination New Region_Prince Edward IslandMontreal Region', 'Origin Destination New Region_Prince Edward IslandNew Brunswick', 'Origin Destination New Region_Prince Edward IslandNewfoundland', 'Origin Destination New Region_Prince Edward IslandNorth Alberta', 'Origin Destination New Region_Prince Edward IslandNorth Manitoba', 'Origin Destination New Region_Prince Edward IslandNorth of Toronto', 'Origin Destination New Region_Prince Edward IslandNova Scotia', 'Origin Destination New Region_Prince Edward IslandOther Areas', 'Origin Destination New Region_Prince Edward IslandPrince Edward Island', 'Origin Destination New Region_Prince Edward IslandQuebec City to Saguenay', 'Origin Destination New Region_Prince Edward IslandSouth Alberta', 'Origin Destination New Region_Prince Edward IslandSouth East Quebec', 'Origin Destination New Region_Prince Edward IslandSouth Ontario', 'Origin Destination New Region_Prince Edward IslandThompson-Okanagan', 'Origin Destination New Region_Prince Edward IslandVancouver Region', 'Origin Destination New Region_Prince Edward IslandWestern Quebec', 'Origin Destination New Region_QuebecAtlantic Quebec', 'Origin Destination New Region_QuebecCalgary Area', 'Origin Destination New Region_QuebecEastern Ontario', 'Origin Destination New Region_QuebecEdmonton Area', 'Origin Destination New Region_QuebecGTA', 'Origin Destination New Region_QuebecHamilton-Niagara', 'Origin Destination New Region_QuebecMontreal Region', 'Origin Destination New Region_QuebecNew Brunswick', 'Origin Destination New Region_QuebecNewfoundland', 'Origin Destination New Region_QuebecNorth Alberta', 'Origin Destination New Region_QuebecNorth Manitoba', 'Origin Destination New Region_QuebecNorth of Toronto', 'Origin Destination New Region_QuebecNorthern BC', 'Origin Destination New Region_QuebecNorthern Ontario', 'Origin Destination New Region_QuebecNorthern Quebec', 'Origin Destination New Region_QuebecNova Scotia', 'Origin Destination New Region_QuebecOther Areas', 'Origin Destination New Region_QuebecPrince Edward Island', 'Origin Destination New Region_QuebecQuebec City to Saguenay', 'Origin Destination New Region_QuebecRocky Mountains', 'Origin Destination New Region_QuebecSouth East Quebec', 'Origin Destination New Region_QuebecSouth Ontario', 'Origin Destination New Region_QuebecSouth Saskatchewan', 'Origin Destination New Region_QuebecTerritories', 'Origin Destination New Region_QuebecThompson-Okanagan', 'Origin Destination New Region_QuebecTrois-Rivieres Region', 'Origin Destination New Region_QuebecVancouver Region', 'Origin Destination New Region_QuebecWestern Quebec', 'Origin Destination New Region_SaskatchewanCalgary Area', 'Origin Destination New Region_SaskatchewanCentral Alberta', 'Origin Destination New Region_SaskatchewanCentral Saskatchewan', 'Origin Destination New Region_SaskatchewanEastern Ontario', 'Origin Destination New Region_SaskatchewanEdmonton Area', 'Origin Destination New Region_SaskatchewanGTA', 'Origin Destination New Region_SaskatchewanHamilton-Niagara', 'Origin Destination New Region_SaskatchewanMontreal Region', 'Origin Destination New Region_SaskatchewanNew Brunswick', 'Origin Destination New Region_SaskatchewanNewfoundland', 'Origin Destination New Region_SaskatchewanNorth Alberta', 'Origin Destination New Region_SaskatchewanNorth Manitoba', 'Origin Destination New Region_SaskatchewanNorth Saskatchewan', 'Origin Destination New Region_SaskatchewanNorth of Toronto', 'Origin Destination New Region_SaskatchewanNorthern BC', 'Origin Destination New Region_SaskatchewanNorthern Ontario', 'Origin Destination New Region_SaskatchewanNova Scotia', 'Origin Destination New Region_SaskatchewanOther Areas', 'Origin Destination New Region_SaskatchewanPrince Edward Island', 'Origin Destination New Region_SaskatchewanQuebec City to Saguenay', 'Origin Destination New Region_SaskatchewanRegina', 'Origin Destination New Region_SaskatchewanRocky Mountains', 'Origin Destination New Region_SaskatchewanSaskatoon', 'Origin Destination New Region_SaskatchewanSouth Alberta', 'Origin Destination New Region_SaskatchewanSouth East Quebec', 'Origin Destination New Region_SaskatchewanSouth Manitoba', 'Origin Destination New Region_SaskatchewanSouth Ontario', 'Origin Destination New Region_SaskatchewanSouth Saskatchewan', 'Origin Destination New Region_SaskatchewanTerritories', 'Origin Destination New Region_SaskatchewanThompson-Okanagan', 'Origin Destination New Region_SaskatchewanVancouver Region', 'Origin Destination New Region_SaskatchewanWestern Quebec', 'Main Transportation Method_Bus', 'Main Transportation Method_Car', 'Main Transportation Method_Commercial Airline', 'Main Transportation Method_Commercial Boat or Cruise', 'Main Transportation Method_Ferry', 'Main Transportation Method_Other', 'Main Transportation Method_Train', 'Main Transportation Method_Unknown', 'Quarter_1st Quarter', 'Quarter_2nd Quarter', 'Quarter_3rd Quarter', 'Quarter_4th Quarter', 'Main Reason_Friends/Relatives', 'Main Reason_Holiday/Leisure/Recreation', 'Main Reason_Shopping', 'Visit Friends & Family', 'Restaurant/Bar/Club', 'Shopping', 'Sightseeing', 'Museum/Art Gallery', 'Historic site', 'Zoo/Aquarium', 'Wildife Viewing/Bird Watching', 'National/Provincial/Nature Park']\n"
     ]
    }
   ],
   "source": [
    "#consists of numerical inputs + ori dest new region, transport, transport, quarter, mainreason, high corr activities\n",
    "x_list = [num_features, ori_dest_newregion, transport, quarter, main_reason, high_correlation_activities_cols]\n",
    "# x3_list = [num_features, ori_dest_newregion, transport, quarter, main_reason, all_activities_cols]\n",
    "x_list_transposed = [list_item.transpose() for list_item in x_list]\n",
    "x = pd.concat(x_list_transposed, axis=0).transpose()\n",
    "y = total_spend\n",
    "x.head(1)\n",
    "print(x.columns.tolist())"
   ]
  },
  {
   "cell_type": "code",
   "execution_count": 6,
   "metadata": {},
   "outputs": [],
   "source": [
    "# X_train, X_test, y_train, y_test = train_test_split(x, y, test_size=0.2, random_state=42)\n",
    "# model = LinearRegression().fit(X_train, y_train)\n",
    "# y_pred = model.predict(X_test)\n",
    "\n",
    "model = LinearRegression().fit(x, y)\n"
   ]
  },
  {
   "cell_type": "code",
   "execution_count": 7,
   "metadata": {},
   "outputs": [],
   "source": [
    "import pickle\n",
    "with open('linear_regression_model.pkl', 'wb') as file:\n",
    "    pickle.dump(model, file)"
   ]
  }
 ],
 "metadata": {
  "kernelspec": {
   "display_name": "Python 3",
   "language": "python",
   "name": "python3"
  },
  "language_info": {
   "codemirror_mode": {
    "name": "ipython",
    "version": 3
   },
   "file_extension": ".py",
   "mimetype": "text/x-python",
   "name": "python",
   "nbconvert_exporter": "python",
   "pygments_lexer": "ipython3",
   "version": "3.9.6"
  }
 },
 "nbformat": 4,
 "nbformat_minor": 2
}
