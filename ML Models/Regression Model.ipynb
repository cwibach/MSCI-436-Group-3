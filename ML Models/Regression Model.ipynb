{
 "cells": [
  {
   "cell_type": "code",
   "execution_count": 1,
   "metadata": {},
   "outputs": [],
   "source": [
    "import numpy as np\n",
    "import pandas as pd"
   ]
  },
  {
   "cell_type": "code",
   "execution_count": 2,
   "metadata": {},
   "outputs": [],
   "source": [
    "from sklearn.model_selection import train_test_split\n",
    "# from sklearn.model_selection import KFold, cross_val_score\n",
    "from sklearn.linear_model import LinearRegression\n",
    "# from sklearn.metrics import mean_squared_error, mean_absolute_error"
   ]
  },
  {
   "cell_type": "code",
   "execution_count": 3,
   "metadata": {},
   "outputs": [],
   "source": [
    "filepath = \"../data/Final Categorization Data.csv\"\n",
    "df = pd.read_csv(filepath)\n",
    "\n",
    "#drop extra binned columns for categorization models\n",
    "df = df.drop(df.iloc[:,82:100], axis = 1)\n",
    "df['Origin Destination New Region'] = df['Origin Province'] + df['New Regions']\n",
    "#one hot encode remaining categorical variables\n",
    "one_hot_columns = [\"Main Transportation Method\", \"Quarter\", \"Main Reason\" ]\n",
    "df2 = pd.get_dummies(df, columns = one_hot_columns)\n",
    "df2 = pd.get_dummies(df2, columns = [\"Origin Destination New Region\"])"
   ]
  },
  {
   "cell_type": "code",
   "execution_count": 9,
   "metadata": {},
   "outputs": [],
   "source": [
    "#get list of column names for each feature\n",
    "transport_cols = [col for col in df2.columns if ('Main Transportation Method') in col]\n",
    "quarter_cols = [col for col in df2.columns if 'Quarter' in col]\n",
    "mainreason_cols = [col for col in df2.columns if 'Main Reason' in col]\n",
    "Origin_Destination_New_Region_cols = [col for col in df2.columns if 'Origin Destination New Region' in col]\n",
    "\n",
    "#get dataframe subsets based on list of col names \n",
    "num_features = df2.loc[:,[\"DURATION\", \"GNCQ06A\", \"GNCQ06B\"]]\n",
    "transport = df2.loc[:,transport_cols]\n",
    "quarter = df2.loc[:,quarter_cols]\n",
    "main_reason = df2.loc[:,mainreason_cols]\n",
    "ori_dest_newregion = df2.loc[:,Origin_Destination_New_Region_cols]\n",
    "high_correlation_activities_cols =  df2.loc[:,['Visit Friends & Family', \"Restaurant/Bar/Club\", \"Shopping\", \"Sightseeing\", \"Museum/Art Gallery\", \"Historic site\", \"Zoo/Aquarium\", \"Wildife Viewing/Bird Watching\", \"National/Provincial/Nature Park\"]]\n",
    "\n",
    "# same as above but dependent feature \n",
    "total_spend = df2.loc[:,[\"SPD_DTOT\"]]"
   ]
  },
  {
   "cell_type": "code",
   "execution_count": 15,
   "metadata": {},
   "outputs": [],
   "source": [
    "#consists of numerical inputs + ori dest new region, transport, transport, quarter, mainreason, high corr activities\n",
    "x_list = [num_features, ori_dest_newregion, transport, quarter, main_reason, high_correlation_activities_cols]\n",
    "# x3_list = [num_features, ori_dest_newregion, transport, quarter, main_reason, all_activities_cols]\n",
    "x_list_transposed = [list_item.transpose() for list_item in x_list]\n",
    "x = pd.concat(x_list_transposed, axis=0).transpose()\n",
    "y = total_spend"
   ]
  },
  {
   "cell_type": "code",
   "execution_count": 6,
   "metadata": {},
   "outputs": [],
   "source": [
    "# X_train, X_test, y_train, y_test = train_test_split(x, y, test_size=0.2, random_state=42)\n",
    "# model = LinearRegression().fit(X_train, y_train)\n",
    "# y_pred = model.predict(X_test)\n",
    "\n",
    "model = LinearRegression().fit(x, y)\n"
   ]
  },
  {
   "cell_type": "code",
   "execution_count": 7,
   "metadata": {},
   "outputs": [],
   "source": [
    "import pickle\n",
    "with open('linear_regression_model.pkl', 'wb') as file:\n",
    "    pickle.dump(model, file)"
   ]
  }
 ],
 "metadata": {
  "kernelspec": {
   "display_name": "Python 3",
   "language": "python",
   "name": "python3"
  },
  "language_info": {
   "codemirror_mode": {
    "name": "ipython",
    "version": 3
   },
   "file_extension": ".py",
   "mimetype": "text/x-python",
   "name": "python",
   "nbconvert_exporter": "python",
   "pygments_lexer": "ipython3",
   "version": "3.9.6"
  }
 },
 "nbformat": 4,
 "nbformat_minor": 2
}
